{
 "cells": [
  {
   "cell_type": "code",
   "execution_count": 1,
   "metadata": {
    "id": "ZRKyLkl4nB-S"
   },
   "outputs": [
    {
     "name": "stderr",
     "output_type": "stream",
     "text": [
      "C:\\Users\\user\\anaconda3\\lib\\site-packages\\numpy\\_distributor_init.py:30: UserWarning: loaded more than 1 DLL from .libs:\n",
      "C:\\Users\\user\\anaconda3\\lib\\site-packages\\numpy\\.libs\\libopenblas.PYQHXLVVQ7VESDPUVUADXEVJOBGHJPAY.gfortran-win_amd64.dll\n",
      "C:\\Users\\user\\anaconda3\\lib\\site-packages\\numpy\\.libs\\libopenblas.WCDJNK7YVMPZQ2ME2ZZHJJRJ3JIKNDB7.gfortran-win_amd64.dll\n",
      "  warnings.warn(\"loaded more than 1 DLL from .libs:\"\n"
     ]
    }
   ],
   "source": [
    "import pandas as pd\n",
    "import numpy as np"
   ]
  },
  {
   "cell_type": "code",
   "execution_count": 2,
   "metadata": {
    "id": "jsduXdU8nut2"
   },
   "outputs": [
    {
     "name": "stderr",
     "output_type": "stream",
     "text": [
      "C:\\Users\\user\\AppData\\Local\\Temp\\ipykernel_29700\\1604670210.py:1: DtypeWarning: Columns (16,22) have mixed types. Specify dtype option on import or set low_memory=False.\n",
      "  train_interpol = pd.read_csv('train_interpol.csv')\n"
     ]
    }
   ],
   "source": [
    "train_interpol = pd.read_csv('train_interpol.csv')"
   ]
  },
  {
   "cell_type": "code",
   "execution_count": 3,
   "metadata": {
    "colab": {
     "base_uri": "https://localhost:8080/"
    },
    "id": "NEoA0ve6qMaS",
    "outputId": "69e2b625-8081-4cb6-f416-a552aa4a84ad"
   },
   "outputs": [
    {
     "data": {
      "text/plain": [
       "일시               0\n",
       "지역               0\n",
       "측정소코드            0\n",
       "측정소명             0\n",
       "SO2          64871\n",
       "CO           64871\n",
       "O3          175668\n",
       "NO2              0\n",
       "PM10             0\n",
       "주소               0\n",
       "위도_x             0\n",
       "경도_x             0\n",
       "기상위도             0\n",
       "기상경도             0\n",
       "거리               0\n",
       "지점          753317\n",
       "지점명_x       753317\n",
       "기온(°C)       82247\n",
       "강수량(mm)      82270\n",
       "풍속(m/s)      82247\n",
       "습도(%)       424378\n",
       "풍향(deg)    5015578\n",
       "지점주소       1790045\n",
       "dtype: int64"
      ]
     },
     "execution_count": 3,
     "metadata": {},
     "output_type": "execute_result"
    }
   ],
   "source": [
    "train_interpol.isnull().sum()"
   ]
  },
  {
   "cell_type": "code",
   "execution_count": 23,
   "metadata": {
    "id": "KCChu9rPu4tF"
   },
   "outputs": [],
   "source": [
    "# 지점,지점명_x, 지점주소는 제외 어차피 볼필요 없음\n",
    "null_col = ['SO2','CO','O3','기온(°C)','강수량(mm)','풍속(m/s)','습도(%)','풍향(deg)']"
   ]
  },
  {
   "cell_type": "code",
   "execution_count": 24,
   "metadata": {
    "colab": {
     "base_uri": "https://localhost:8080/"
    },
    "id": "0y7anVgYvRd4",
    "outputId": "f904e4bf-a742-4df2-9e85-463bf8efb0ab"
   },
   "outputs": [
    {
     "name": "stdout",
     "output_type": "stream",
     "text": [
      "--------SO2--------\n",
      "221271    57580\n",
      "221183     7291\n",
      "Name: 측정소코드, dtype: int64\n",
      "--------CO--------\n",
      "221271    57580\n",
      "221183     7291\n",
      "Name: 측정소코드, dtype: int64\n",
      "--------O3--------\n",
      "131414    60354\n",
      "131120    60084\n",
      "735116    55230\n",
      "Name: 측정소코드, dtype: int64\n",
      "--------기온(°C)--------\n",
      "131145    58462\n",
      "422205    16122\n",
      "238377     7663\n",
      "Name: 측정소코드, dtype: int64\n",
      "--------강수량(mm)--------\n",
      "131145    58462\n",
      "422205    16122\n",
      "238377     7663\n",
      "437203       23\n",
      "Name: 측정소코드, dtype: int64\n",
      "--------풍속(m/s)--------\n",
      "131145    58462\n",
      "422205    16122\n",
      "238377     7663\n",
      "Name: 측정소코드, dtype: int64\n",
      "--------습도(%)--------\n",
      "131145    58462\n",
      "131163    57522\n",
      "131384    36122\n",
      "422202    32090\n",
      "823705    23507\n",
      "823706    22278\n",
      "422204    22198\n",
      "336221    20124\n",
      "221901    18785\n",
      "111282    18463\n",
      "525162    17679\n",
      "422205    16122\n",
      "823803    10188\n",
      "238184     9995\n",
      "131234     9384\n",
      "131474     9328\n",
      "437125     8659\n",
      "238377     7663\n",
      "422206     6550\n",
      "633215     6482\n",
      "633133     4277\n",
      "534452     3602\n",
      "336462     2836\n",
      "132993     2062\n",
      "Name: 측정소코드, dtype: int64\n",
      "--------풍향(deg)--------\n",
      "111121    60069\n",
      "238131    59729\n",
      "324134    59477\n",
      "525142    59430\n",
      "131112    59320\n",
      "          ...  \n",
      "131593      716\n",
      "238203      261\n",
      "238134      260\n",
      "238379      206\n",
      "437203       23\n",
      "Name: 측정소코드, Length: 137, dtype: int64\n"
     ]
    }
   ],
   "source": [
    "null_points = []\n",
    "for col in null_col:\n",
    "    print('--------{}--------'.format(col))\n",
    "    null_df = train_interpol[train_interpol[col].isnull()]\n",
    "    print(null_df['측정소코드'].value_counts())\n",
    "    # null_points.appned(null_df['측정소코드'].value_counts().[0])"
   ]
  },
  {
   "cell_type": "markdown",
   "metadata": {
    "id": "dOEmO9d7weWq"
   },
   "source": [
    "221142,221163,131194,131385,131344,131542"
   ]
  },
  {
   "cell_type": "code",
   "execution_count": 25,
   "metadata": {
    "id": "mIs_2uFluiZB"
   },
   "outputs": [],
   "source": [
    "null_code = [221271,221183,131145,422205,238377,437203,131163,131384,422202,823705,823706,\n",
    "             422204,336221,221901,111282,525162,823803,238184,131234,131474,437125,422206,633215,633133,534452,336462,132993,131414,\n",
    "            131120,735116] "
   ]
  },
  {
   "cell_type": "code",
   "execution_count": 26,
   "metadata": {
    "colab": {
     "base_uri": "https://localhost:8080/"
    },
    "id": "xSCYUfu6ttLS",
    "outputId": "8eaaba3b-7208-4274-dbec-a707e0615c75"
   },
   "outputs": [
    {
     "name": "stdout",
     "output_type": "stream",
     "text": [
      "--------221271--------\n",
      "57580\n",
      "--------221183--------\n",
      "7291\n",
      "--------131145--------\n",
      "58462\n",
      "--------422205--------\n",
      "16122\n",
      "--------238377--------\n",
      "7663\n",
      "--------437203--------\n",
      "23\n",
      "--------131163--------\n",
      "57522\n",
      "--------131384--------\n",
      "36122\n",
      "--------422202--------\n",
      "32090\n",
      "--------823705--------\n",
      "23507\n",
      "--------823706--------\n",
      "22278\n",
      "--------422204--------\n",
      "22198\n",
      "--------336221--------\n",
      "20124\n",
      "--------221901--------\n",
      "18785\n",
      "--------111282--------\n",
      "18463\n",
      "--------525162--------\n",
      "17679\n",
      "--------823803--------\n",
      "10188\n",
      "--------238184--------\n",
      "9995\n",
      "--------131234--------\n",
      "9384\n",
      "--------131474--------\n",
      "9328\n",
      "--------437125--------\n",
      "8659\n",
      "--------422206--------\n",
      "6550\n",
      "--------633215--------\n",
      "6482\n",
      "--------633133--------\n",
      "4277\n",
      "--------534452--------\n",
      "3602\n",
      "--------336462--------\n",
      "2836\n",
      "--------132993--------\n",
      "2062\n",
      "--------131414--------\n",
      "60354\n",
      "--------131120--------\n",
      "60084\n",
      "--------735116--------\n",
      "55230\n"
     ]
    }
   ],
   "source": [
    "for code in null_code:\n",
    "  print('--------{}--------'.format(code))\n",
    "  code_len = len(train_interpol[train_interpol['측정소코드'] == code])\n",
    "  print(code_len)\n"
   ]
  },
  {
   "cell_type": "markdown",
   "metadata": {
    "id": "GjVb3lItxctW"
   },
   "source": [
    "(풍향제외) 다른 변수들은 해당 관측소의 모든변수가 다 안채워져있어 interpolate안됨\n",
    "- 160090"
   ]
  },
  {
   "cell_type": "code",
   "execution_count": 27,
   "metadata": {},
   "outputs": [
    {
     "name": "stdout",
     "output_type": "stream",
     "text": [
      "<class 'pandas.core.frame.DataFrame'>\n",
      "RangeIndex: 18081790 entries, 0 to 18081789\n",
      "Data columns (total 23 columns):\n",
      " #   Column   Dtype  \n",
      "---  ------   -----  \n",
      " 0   일시       object \n",
      " 1   지역       object \n",
      " 2   측정소코드    int64  \n",
      " 3   측정소명     object \n",
      " 4   SO2      float64\n",
      " 5   CO       float64\n",
      " 6   O3       float64\n",
      " 7   NO2      float64\n",
      " 8   PM10     float64\n",
      " 9   주소       object \n",
      " 10  위도_x     float64\n",
      " 11  경도_x     float64\n",
      " 12  기상위도     float64\n",
      " 13  기상경도     float64\n",
      " 14  거리       float64\n",
      " 15  지점       float64\n",
      " 16  지점명_x    object \n",
      " 17  기온(°C)   float64\n",
      " 18  강수량(mm)  float64\n",
      " 19  풍속(m/s)  float64\n",
      " 20  습도(%)    float64\n",
      " 21  풍향(deg)  float64\n",
      " 22  지점주소     object \n",
      "dtypes: float64(16), int64(1), object(6)\n",
      "memory usage: 3.1+ GB\n"
     ]
    }
   ],
   "source": [
    "train_interpol.info()"
   ]
  },
  {
   "cell_type": "code",
   "execution_count": 28,
   "metadata": {},
   "outputs": [
    {
     "name": "stdout",
     "output_type": "stream",
     "text": [
      "<class 'pandas.core.frame.DataFrame'>\n",
      "RangeIndex: 18081790 entries, 0 to 18081789\n",
      "Data columns (total 22 columns):\n",
      " #   Column   Dtype  \n",
      "---  ------   -----  \n",
      " 0   일시       object \n",
      " 1   지역       object \n",
      " 2   측정소코드    int64  \n",
      " 3   측정소명     object \n",
      " 4   SO2      float64\n",
      " 5   CO       float64\n",
      " 6   O3       float64\n",
      " 7   NO2      float64\n",
      " 8   PM10     float64\n",
      " 9   주소       object \n",
      " 10  위도_x     float64\n",
      " 11  경도_x     float64\n",
      " 12  기상위도     float64\n",
      " 13  기상경도     float64\n",
      " 14  거리       float64\n",
      " 15  지점       float64\n",
      " 16  지점명_x    object \n",
      " 17  기온(°C)   float64\n",
      " 18  강수량(mm)  float64\n",
      " 19  풍속(m/s)  float64\n",
      " 20  습도(%)    float64\n",
      " 21  지점주소     object \n",
      "dtypes: float64(15), int64(1), object(6)\n",
      "memory usage: 3.0+ GB\n"
     ]
    }
   ],
   "source": [
    "train_interpol2.info()"
   ]
  },
  {
   "cell_type": "code",
   "execution_count": 29,
   "metadata": {
    "colab": {
     "base_uri": "https://localhost:8080/"
    },
    "id": "2wq6VDAZt-sb",
    "outputId": "c01d9c6b-06cf-432b-901a-c57c8ec714fd"
   },
   "outputs": [
    {
     "data": {
      "text/plain": [
       "(18081790, 22)"
      ]
     },
     "execution_count": 29,
     "metadata": {},
     "output_type": "execute_result"
    }
   ],
   "source": [
    "# 풍향제거\n",
    "train_interpol2 = train_interpol.drop(columns = ['풍향(deg)'],axis = 1)\n",
    "train_interpol2.shape"
   ]
  },
  {
   "cell_type": "code",
   "execution_count": 30,
   "metadata": {
    "colab": {
     "base_uri": "https://localhost:8080/"
    },
    "id": "gYchxJDF0jPN",
    "outputId": "f48c8f95-491b-488c-a60a-282ab60c29e7"
   },
   "outputs": [
    {
     "data": {
      "text/plain": [
       "일시               0\n",
       "지역               0\n",
       "측정소코드            0\n",
       "측정소명             0\n",
       "SO2          64871\n",
       "CO           64871\n",
       "O3          175668\n",
       "NO2              0\n",
       "PM10             0\n",
       "주소               0\n",
       "위도_x             0\n",
       "경도_x             0\n",
       "기상위도             0\n",
       "기상경도             0\n",
       "거리               0\n",
       "지점          753317\n",
       "지점명_x       753317\n",
       "기온(°C)       82247\n",
       "강수량(mm)      82270\n",
       "풍속(m/s)      82247\n",
       "습도(%)       424378\n",
       "지점주소       1790045\n",
       "dtype: int64"
      ]
     },
     "execution_count": 30,
     "metadata": {},
     "output_type": "execute_result"
    }
   ],
   "source": [
    "train_interpol2.isnull().sum()"
   ]
  },
  {
   "cell_type": "code",
   "execution_count": 31,
   "metadata": {
    "colab": {
     "base_uri": "https://localhost:8080/"
    },
    "id": "PBeLndP20swS",
    "outputId": "00a9dadc-cd45-4e6a-da86-47d204731dc1"
   },
   "outputs": [
    {
     "name": "stdout",
     "output_type": "stream",
     "text": [
      "--------221271--------\n",
      "57580\n",
      "--------221183--------\n",
      "7291\n",
      "--------131145--------\n",
      "58462\n",
      "--------422205--------\n",
      "16122\n",
      "--------238377--------\n",
      "7663\n",
      "--------437203--------\n",
      "23\n",
      "--------131163--------\n",
      "57522\n",
      "--------131384--------\n",
      "36122\n",
      "--------422202--------\n",
      "32090\n",
      "--------823705--------\n",
      "23507\n",
      "--------823706--------\n",
      "22278\n",
      "--------422204--------\n",
      "22198\n",
      "--------336221--------\n",
      "20124\n",
      "--------221901--------\n",
      "18785\n",
      "--------111282--------\n",
      "18463\n",
      "--------525162--------\n",
      "17679\n",
      "--------823803--------\n",
      "10188\n",
      "--------238184--------\n",
      "9995\n",
      "--------131234--------\n",
      "9384\n",
      "--------131474--------\n",
      "9328\n",
      "--------437125--------\n",
      "8659\n",
      "--------422206--------\n",
      "6550\n",
      "--------633215--------\n",
      "6482\n",
      "--------633133--------\n",
      "4277\n",
      "--------534452--------\n",
      "3602\n",
      "--------336462--------\n",
      "2836\n",
      "--------132993--------\n",
      "2062\n",
      "--------131414--------\n",
      "60354\n",
      "--------131120--------\n",
      "60084\n",
      "--------735116--------\n",
      "55230\n"
     ]
    }
   ],
   "source": [
    "for code in null_code:\n",
    "  print('--------{}--------'.format(code))\n",
    "  code_len = len(train_interpol2[train_interpol2['측정소코드'] == code])\n",
    "  print(code_len)"
   ]
  },
  {
   "cell_type": "code",
   "execution_count": 32,
   "metadata": {
    "id": "ojRkQxmc1HFR"
   },
   "outputs": [],
   "source": [
    "# test_interpol2.reset_index(inplace = True)"
   ]
  },
  {
   "cell_type": "code",
   "execution_count": 33,
   "metadata": {
    "id": "N3xTpy_Gyu84"
   },
   "outputs": [],
   "source": [
    "# 관측소 제거를 위해 인덱스 추출\n",
    "null_idx = []\n",
    "for code in null_code:\n",
    "  df = train_interpol2[train_interpol2['측정소코드'] == code]\n",
    "  idx_list = list(set(df.index.to_list()))\n",
    "  null_idx.extend(idx_list)"
   ]
  },
  {
   "cell_type": "code",
   "execution_count": 34,
   "metadata": {
    "colab": {
     "base_uri": "https://localhost:8080/"
    },
    "id": "u-vRd15ny-Rb",
    "outputId": "c01859e0-fee3-46c7-97cb-ab2177295494"
   },
   "outputs": [
    {
     "data": {
      "text/plain": [
       "664940"
      ]
     },
     "execution_count": 34,
     "metadata": {},
     "output_type": "execute_result"
    }
   ],
   "source": [
    "len(null_idx)"
   ]
  },
  {
   "cell_type": "code",
   "execution_count": 35,
   "metadata": {},
   "outputs": [
    {
     "data": {
      "text/plain": [
       "(18081790, 22)"
      ]
     },
     "execution_count": 35,
     "metadata": {},
     "output_type": "execute_result"
    }
   ],
   "source": [
    "train_interpol2.shape"
   ]
  },
  {
   "cell_type": "code",
   "execution_count": 36,
   "metadata": {
    "colab": {
     "base_uri": "https://localhost:8080/"
    },
    "id": "8odaMc-S0dhw",
    "outputId": "b769459c-674c-4f33-9aa6-70a76a25b13d"
   },
   "outputs": [
    {
     "data": {
      "text/plain": [
       "(17416850, 22)"
      ]
     },
     "execution_count": 36,
     "metadata": {},
     "output_type": "execute_result"
    }
   ],
   "source": [
    "train_interpol3 = train_interpol2.drop(null_idx, axis = 0)\n",
    "train_interpol3.shape"
   ]
  },
  {
   "cell_type": "markdown",
   "metadata": {
    "id": "NsaGmjUk1-PZ"
   },
   "source": [
    "정확히 160090개 떨어져 나감"
   ]
  },
  {
   "cell_type": "code",
   "execution_count": 37,
   "metadata": {
    "colab": {
     "base_uri": "https://localhost:8080/",
     "height": 1000
    },
    "id": "kRJmxAGy1jfn",
    "outputId": "5eecfa4e-0145-4597-c542-0a37c394de84"
   },
   "outputs": [
    {
     "data": {
      "text/html": [
       "<div>\n",
       "<style scoped>\n",
       "    .dataframe tbody tr th:only-of-type {\n",
       "        vertical-align: middle;\n",
       "    }\n",
       "\n",
       "    .dataframe tbody tr th {\n",
       "        vertical-align: top;\n",
       "    }\n",
       "\n",
       "    .dataframe thead th {\n",
       "        text-align: right;\n",
       "    }\n",
       "</style>\n",
       "<table border=\"1\" class=\"dataframe\">\n",
       "  <thead>\n",
       "    <tr style=\"text-align: right;\">\n",
       "      <th></th>\n",
       "      <th>일시</th>\n",
       "      <th>지역</th>\n",
       "      <th>측정소코드</th>\n",
       "      <th>측정소명</th>\n",
       "      <th>SO2</th>\n",
       "      <th>CO</th>\n",
       "      <th>O3</th>\n",
       "      <th>NO2</th>\n",
       "      <th>PM10</th>\n",
       "      <th>주소</th>\n",
       "      <th>...</th>\n",
       "      <th>기상위도</th>\n",
       "      <th>기상경도</th>\n",
       "      <th>거리</th>\n",
       "      <th>지점</th>\n",
       "      <th>지점명_x</th>\n",
       "      <th>기온(°C)</th>\n",
       "      <th>강수량(mm)</th>\n",
       "      <th>풍속(m/s)</th>\n",
       "      <th>습도(%)</th>\n",
       "      <th>지점주소</th>\n",
       "    </tr>\n",
       "  </thead>\n",
       "  <tbody>\n",
       "    <tr>\n",
       "      <th>0</th>\n",
       "      <td>2014-01-01 01:00:00</td>\n",
       "      <td>강원 강릉시</td>\n",
       "      <td>632132</td>\n",
       "      <td>옥천동</td>\n",
       "      <td>0.010</td>\n",
       "      <td>0.6</td>\n",
       "      <td>0.022</td>\n",
       "      <td>0.011</td>\n",
       "      <td>132.0</td>\n",
       "      <td>강원 강릉시 옥천동</td>\n",
       "      <td>...</td>\n",
       "      <td>37.7515</td>\n",
       "      <td>128.891</td>\n",
       "      <td>1.209623</td>\n",
       "      <td>105.0</td>\n",
       "      <td>강릉</td>\n",
       "      <td>6.6</td>\n",
       "      <td>0.0</td>\n",
       "      <td>5.4</td>\n",
       "      <td>30.0</td>\n",
       "      <td>강원도 강릉시용강동 63-20강릉자동기상관측소</td>\n",
       "    </tr>\n",
       "    <tr>\n",
       "      <th>1</th>\n",
       "      <td>2014-01-01 02:00:00</td>\n",
       "      <td>강원 강릉시</td>\n",
       "      <td>632132</td>\n",
       "      <td>옥천동</td>\n",
       "      <td>0.010</td>\n",
       "      <td>0.6</td>\n",
       "      <td>0.021</td>\n",
       "      <td>0.011</td>\n",
       "      <td>121.0</td>\n",
       "      <td>강원 강릉시 옥천동</td>\n",
       "      <td>...</td>\n",
       "      <td>37.7515</td>\n",
       "      <td>128.891</td>\n",
       "      <td>1.209623</td>\n",
       "      <td>105.0</td>\n",
       "      <td>강릉</td>\n",
       "      <td>5.9</td>\n",
       "      <td>0.0</td>\n",
       "      <td>2.8</td>\n",
       "      <td>30.0</td>\n",
       "      <td>강원도 강릉시용강동 63-20강릉자동기상관측소</td>\n",
       "    </tr>\n",
       "    <tr>\n",
       "      <th>2</th>\n",
       "      <td>2014-01-01 03:00:00</td>\n",
       "      <td>강원 강릉시</td>\n",
       "      <td>632132</td>\n",
       "      <td>옥천동</td>\n",
       "      <td>0.011</td>\n",
       "      <td>0.9</td>\n",
       "      <td>0.019</td>\n",
       "      <td>0.011</td>\n",
       "      <td>101.0</td>\n",
       "      <td>강원 강릉시 옥천동</td>\n",
       "      <td>...</td>\n",
       "      <td>37.7515</td>\n",
       "      <td>128.891</td>\n",
       "      <td>1.209623</td>\n",
       "      <td>105.0</td>\n",
       "      <td>강릉</td>\n",
       "      <td>4.5</td>\n",
       "      <td>0.0</td>\n",
       "      <td>0.7</td>\n",
       "      <td>28.0</td>\n",
       "      <td>강원도 강릉시용강동 63-20강릉자동기상관측소</td>\n",
       "    </tr>\n",
       "    <tr>\n",
       "      <th>3</th>\n",
       "      <td>2014-01-01 04:00:00</td>\n",
       "      <td>강원 강릉시</td>\n",
       "      <td>632132</td>\n",
       "      <td>옥천동</td>\n",
       "      <td>0.011</td>\n",
       "      <td>1.0</td>\n",
       "      <td>0.014</td>\n",
       "      <td>0.017</td>\n",
       "      <td>82.0</td>\n",
       "      <td>강원 강릉시 옥천동</td>\n",
       "      <td>...</td>\n",
       "      <td>37.7515</td>\n",
       "      <td>128.891</td>\n",
       "      <td>1.209623</td>\n",
       "      <td>105.0</td>\n",
       "      <td>강릉</td>\n",
       "      <td>3.8</td>\n",
       "      <td>0.0</td>\n",
       "      <td>1.0</td>\n",
       "      <td>24.0</td>\n",
       "      <td>강원도 강릉시용강동 63-20강릉자동기상관측소</td>\n",
       "    </tr>\n",
       "  </tbody>\n",
       "</table>\n",
       "<p>4 rows × 22 columns</p>\n",
       "</div>"
      ],
      "text/plain": [
       "                    일시      지역   측정소코드 측정소명    SO2   CO     O3    NO2   PM10  \\\n",
       "0  2014-01-01 01:00:00  강원 강릉시  632132  옥천동  0.010  0.6  0.022  0.011  132.0   \n",
       "1  2014-01-01 02:00:00  강원 강릉시  632132  옥천동  0.010  0.6  0.021  0.011  121.0   \n",
       "2  2014-01-01 03:00:00  강원 강릉시  632132  옥천동  0.011  0.9  0.019  0.011  101.0   \n",
       "3  2014-01-01 04:00:00  강원 강릉시  632132  옥천동  0.011  1.0  0.014  0.017   82.0   \n",
       "\n",
       "           주소  ...     기상위도     기상경도        거리     지점  지점명_x  기온(°C) 강수량(mm)  \\\n",
       "0  강원 강릉시 옥천동  ...  37.7515  128.891  1.209623  105.0     강릉     6.6     0.0   \n",
       "1  강원 강릉시 옥천동  ...  37.7515  128.891  1.209623  105.0     강릉     5.9     0.0   \n",
       "2  강원 강릉시 옥천동  ...  37.7515  128.891  1.209623  105.0     강릉     4.5     0.0   \n",
       "3  강원 강릉시 옥천동  ...  37.7515  128.891  1.209623  105.0     강릉     3.8     0.0   \n",
       "\n",
       "   풍속(m/s)  습도(%)                         지점주소  \n",
       "0      5.4   30.0  강원도 강릉시용강동 63-20강릉자동기상관측소    \n",
       "1      2.8   30.0  강원도 강릉시용강동 63-20강릉자동기상관측소    \n",
       "2      0.7   28.0  강원도 강릉시용강동 63-20강릉자동기상관측소    \n",
       "3      1.0   24.0  강원도 강릉시용강동 63-20강릉자동기상관측소    \n",
       "\n",
       "[4 rows x 22 columns]"
      ]
     },
     "execution_count": 37,
     "metadata": {},
     "output_type": "execute_result"
    }
   ],
   "source": [
    "# index reset후 저장\n",
    "train_interpol3.reset_index(drop = True, inplace = True)\n",
    "train_interpol3.head(4)"
   ]
  },
  {
   "cell_type": "code",
   "execution_count": 38,
   "metadata": {
    "colab": {
     "base_uri": "https://localhost:8080/"
    },
    "id": "TKrDQYzm2v6k",
    "outputId": "ff1fc568-d54b-47eb-8aae-d8feebe9fd20"
   },
   "outputs": [
    {
     "data": {
      "text/plain": [
       "(17416850, 22)"
      ]
     },
     "execution_count": 38,
     "metadata": {},
     "output_type": "execute_result"
    }
   ],
   "source": [
    "train_interpol3.shape"
   ]
  },
  {
   "cell_type": "code",
   "execution_count": 39,
   "metadata": {
    "colab": {
     "base_uri": "https://localhost:8080/"
    },
    "id": "JeZNd_oA3EUM",
    "outputId": "b477cbc6-5d8d-4fda-c654-a6ccd8f98e50"
   },
   "outputs": [
    {
     "data": {
      "text/plain": [
       "일시               0\n",
       "지역               0\n",
       "측정소코드            0\n",
       "측정소명             0\n",
       "SO2              0\n",
       "CO               0\n",
       "O3               0\n",
       "NO2              0\n",
       "PM10             0\n",
       "주소               0\n",
       "위도_x             0\n",
       "경도_x             0\n",
       "기상위도             0\n",
       "기상경도             0\n",
       "거리               0\n",
       "지점          644714\n",
       "지점명_x       644714\n",
       "기온(°C)           0\n",
       "강수량(mm)          0\n",
       "풍속(m/s)          0\n",
       "습도(%)            0\n",
       "지점주소       1626054\n",
       "dtype: int64"
      ]
     },
     "execution_count": 39,
     "metadata": {},
     "output_type": "execute_result"
    }
   ],
   "source": [
    "train_interpol3.isnull().sum()"
   ]
  },
  {
   "cell_type": "code",
   "execution_count": 40,
   "metadata": {},
   "outputs": [],
   "source": [
    "# 지역,측정소명,주소,지점, 지점명_x, 지점주소 제거\n",
    "train_interpol4 = train_interpol3.drop(columns = ['지역','측정소명','주소','지점','지점명_x','지점주소'],axis = 1)\n",
    "train_interpol4.shape\n",
    "train_interpol4.rename(columns={'일시':'date','측정소코드':'code',\n",
    "                               '위도_x':'air_lat','경도_x':'air_lon',\n",
    "                               '기상위도' : 'weat_lat','기상경도' : 'weat_lon',\n",
    "                               '거리':'dist','기온(°C)':'temp',\n",
    "                               '강수량(mm)':'percip','풍속(m/s)':'wind_speed',\n",
    "                               '습도(%)':'humidity'},inplace = True)"
   ]
  },
  {
   "cell_type": "code",
   "execution_count": 41,
   "metadata": {
    "id": "yCaIT2am2zq2"
   },
   "outputs": [],
   "source": [
    "train_interpol4.to_csv('train_final.csv', index=False)"
   ]
  },
  {
   "cell_type": "code",
   "execution_count": 43,
   "metadata": {
    "id": "rdf-41KW3MTd"
   },
   "outputs": [
    {
     "data": {
      "text/plain": [
       "444"
      ]
     },
     "execution_count": 43,
     "metadata": {},
     "output_type": "execute_result"
    }
   ],
   "source": [
    "len(train_interpol4['code'].unique())"
   ]
  },
  {
   "cell_type": "code",
   "execution_count": null,
   "metadata": {},
   "outputs": [],
   "source": []
  }
 ],
 "metadata": {
  "colab": {
   "name": "pandas interpolate.ipynb",
   "provenance": []
  },
  "kernelspec": {
   "display_name": "Python 3 (ipykernel)",
   "language": "python",
   "name": "python3"
  },
  "language_info": {
   "codemirror_mode": {
    "name": "ipython",
    "version": 3
   },
   "file_extension": ".py",
   "mimetype": "text/x-python",
   "name": "python",
   "nbconvert_exporter": "python",
   "pygments_lexer": "ipython3",
   "version": "3.8.8"
  }
 },
 "nbformat": 4,
 "nbformat_minor": 4
}
