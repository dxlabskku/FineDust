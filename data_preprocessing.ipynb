{
 "cells": [
  {
   "cell_type": "code",
   "execution_count": 3,
   "metadata": {
    "colab": {
     "base_uri": "https://localhost:8080/"
    },
    "id": "kIyptgXNc5mu",
    "outputId": "0d9d4ce9-88ae-4881-a685-7aca6d8f7482"
   },
   "outputs": [],
   "source": [
    "# !pip apt-get install -y fonts-nanum\n",
    "# !pip fc-cache -fv\n",
    "# !rm ~/.cache/matplotlib -rf"
   ]
  },
  {
   "cell_type": "code",
   "execution_count": 1,
   "metadata": {
    "id": "cghwQ0OFa-Os"
   },
   "outputs": [],
   "source": [
    "import pandas as pd\n",
    "import numpy as np\n",
    "import matplotlib.pyplot as plt\n",
    "plt.rc('font', family='NanumBarunGothic') \n",
    "\n",
    "import seaborn as sns\n",
    "# import missingno as mno\n",
    "\n",
    "\n"
   ]
  },
  {
   "cell_type": "markdown",
   "metadata": {
    "id": "4xIYqR3rbv05"
   },
   "source": [
    "## Prepare data"
   ]
  },
  {
   "cell_type": "code",
   "execution_count": 3,
   "metadata": {},
   "outputs": [],
   "source": [
    "import pandas as pd\n",
    "pd.set_option('display.max_columns', None)\n",
    "import numpy as np\n",
    "import warnings\n",
    "warnings.simplefilter(\"ignore\")"
   ]
  },
  {
   "cell_type": "code",
   "execution_count": 32,
   "metadata": {},
   "outputs": [],
   "source": [
    "all2014 = pd.read_csv('ALL_2012-2020/all_2014.csv')\n",
    "all2015 = pd.read_csv('ALL_2012-2020/all_2015.csv')\n",
    "all2016 = pd.read_csv('ALL_2012-2020/all_2016.csv')\n",
    "all2017 = pd.read_csv('ALL_2012-2020/all_2017.csv')\n",
    "all2018 = pd.read_csv('ALL_2012-2020/all_2018.csv')\n",
    "all2019 = pd.read_csv('ALL_2012-2020/all_2019.csv')\n",
    "all2020 = pd.read_csv('ALL_2012-2020/all_2020.csv')\n",
    "\n",
    "all_data = pd.concat([all2014,all2015,all2016,all2017,all2018,all2019,all2020], axis=0)\n",
    "all_data.to_csv('all_2014-2020.csv', index=False)"
   ]
  },
  {
   "cell_type": "code",
   "execution_count": 27,
   "metadata": {
    "colab": {
     "base_uri": "https://localhost:8080/"
    },
    "id": "G5i7p0T2bxRx",
    "outputId": "dddc4379-7831-4a94-c4de-f24554cc3cb4"
   },
   "outputs": [],
   "source": [
    "def merge_data(year):\n",
    "    #meta_all = pd.read_csv('META/meta_all.csv')\n",
    "    asos = pd.read_csv('ALL_2012-2020/all_%d.csv' % (year))\n",
    "    aws = pd.read_csv('ALL_2012-2020/all_%d.csv' % (year))\n",
    "    globals()['{}_{}'.format('concat', year)] = pd.concat([asos,aws], axis=0)\n",
    "    final_concat = pd.merge(globals()['concat_{}'.format(year)], meta_all, on='지점', how='left')\n",
    "    final_concat.to_csv('weather_2012-2020/weather_{}.csv'.format(year), index=False)\n",
    "    print('{} shape'.format(year), final_concat.shape)\n",
    "    print(final_concat.위도.isnull().sum())"
   ]
  },
  {
   "cell_type": "code",
   "execution_count": 34,
   "metadata": {
    "colab": {
     "base_uri": "https://localhost:8080/"
    },
    "id": "akPHSsBqcLl4",
    "outputId": "0c6ff69a-6c70-4913-c0f2-d3325f11e7cb"
   },
   "outputs": [
    {
     "name": "stdout",
     "output_type": "stream",
     "text": [
      "<class 'pandas.core.frame.DataFrame'>\n",
      "Int64Index: 23356143 entries, 0 to 4677476\n",
      "Data columns (total 59 columns):\n",
      " #   Column         Dtype  \n",
      "---  ------         -----  \n",
      " 0   지역             object \n",
      " 1   측정소코드          int64  \n",
      " 2   측정소명           object \n",
      " 3   SO2            float64\n",
      " 4   CO             float64\n",
      " 5   O3             float64\n",
      " 6   NO2            float64\n",
      " 7   PM10           float64\n",
      " 8   PM25           float64\n",
      " 9   주소             object \n",
      " 10  위도_x           float64\n",
      " 11  경도_x           float64\n",
      " 12  기상위도           float64\n",
      " 13  기상경도           float64\n",
      " 14  거리             float64\n",
      " 15  일시             object \n",
      " 16  지점             float64\n",
      " 17  지점명_x          object \n",
      " 18  기온(°C)         float64\n",
      " 19  기온 QC플래그       float64\n",
      " 20  강수량(mm)        float64\n",
      " 21  강수량 QC플래그      float64\n",
      " 22  풍속(m/s)        float64\n",
      " 23  풍속 QC플래그       float64\n",
      " 24  풍향(16방위)       float64\n",
      " 25  풍향 QC플래그       float64\n",
      " 26  습도(%)          float64\n",
      " 27  습도 QC플래그       float64\n",
      " 28  증기압(hPa)       float64\n",
      " 29  이슬점온도(°C)      float64\n",
      " 30  현지기압(hPa)      float64\n",
      " 31  현지기압 QC플래그     float64\n",
      " 32  해면기압(hPa)      float64\n",
      " 33  해면기압 QC플래그     float64\n",
      " 34  일조(hr)         float64\n",
      " 35  일조 QC플래그       float64\n",
      " 36  일사(MJ/m2)      float64\n",
      " 37  일사 QC플래그       float64\n",
      " 38  적설(cm)         float64\n",
      " 39  3시간신적설(cm)     float64\n",
      " 40  전운량(10분위)      float64\n",
      " 41  중하층운량(10분위)    float64\n",
      " 42  운형(운형약어)       object \n",
      " 43  최저운고(100m )    float64\n",
      " 44  시정(10m)        float64\n",
      " 45  지면상태(지면상태코드)   float64\n",
      " 46  현상번호(국내식)      float64\n",
      " 47  지면온도(°C)       float64\n",
      " 48  지면온도 QC플래그     float64\n",
      " 49  5cm 지중온도(°C)   float64\n",
      " 50  10cm 지중온도(°C)  float64\n",
      " 51  20cm 지중온도(°C)  float64\n",
      " 52  30cm 지중온도(°C)  float64\n",
      " 53  풍향(deg)        float64\n",
      " 54  지점명_y          object \n",
      " 55  지점주소           object \n",
      " 56  위도_y           float64\n",
      " 57  경도_y           float64\n",
      " 58  망              object \n",
      "dtypes: float64(49), int64(1), object(9)\n",
      "memory usage: 10.4+ GB\n"
     ]
    }
   ],
   "source": [
    "all_data.info()"
   ]
  },
  {
   "cell_type": "markdown",
   "metadata": {
    "id": "YiDB9d53cZUn"
   },
   "source": [
    "# Null imputation"
   ]
  },
  {
   "cell_type": "code",
   "execution_count": 35,
   "metadata": {
    "id": "6Bjdzjc7cPKI"
   },
   "outputs": [],
   "source": [
    "def find_null(df):\n",
    "  df['지점'] = df['지점'].astype('object')\n",
    "  null_feature = []\n",
    "  for col in df.columns.tolist():\n",
    "    null_count = df[col].isnull().sum()\n",
    "    null_ratio = round(null_count/len(df), 2)*100\n",
    "    if null_ratio >= 50:\n",
    "      null_feature.append(col)\n",
    "    print(col, ' : ', round(null_count/len(df), 2)*100 ,'%' )\n",
    "  \n",
    "  print('----- null_ratio over 50% : -----')\n",
    "  print(null_feature)\n",
    "  \n",
    "  # null 비율이 50%이상인인 변수들은 제거\n",
    "  data = df.drop(columns = null_feature)\n",
    "  return data, null_feature\n",
    "\n",
    "\n"
   ]
  },
  {
   "cell_type": "code",
   "execution_count": 36,
   "metadata": {
    "colab": {
     "base_uri": "https://localhost:8080/"
    },
    "id": "6JyWPQbSmuTB",
    "outputId": "95c47e43-2301-4bf2-df19-b9130653a25b"
   },
   "outputs": [
    {
     "name": "stdout",
     "output_type": "stream",
     "text": [
      "지역  :  0.0 %\n",
      "측정소코드  :  0.0 %\n",
      "측정소명  :  0.0 %\n",
      "SO2  :  5.0 %\n",
      "CO  :  6.0 %\n",
      "O3  :  5.0 %\n",
      "NO2  :  5.0 %\n",
      "PM10  :  7.000000000000001 %\n",
      "PM25  :  36.0 %\n",
      "주소  :  0.0 %\n",
      "위도_x  :  0.0 %\n",
      "경도_x  :  0.0 %\n",
      "기상위도  :  0.0 %\n",
      "기상경도  :  0.0 %\n",
      "거리  :  0.0 %\n",
      "일시  :  0.0 %\n",
      "지점  :  4.0 %\n",
      "지점명_x  :  4.0 %\n",
      "기온(°C)  :  4.0 %\n",
      "기온 QC플래그  :  83.0 %\n",
      "강수량(mm)  :  30.0 %\n",
      "강수량 QC플래그  :  94.0 %\n",
      "풍속(m/s)  :  4.0 %\n",
      "풍속 QC플래그  :  84.0 %\n",
      "풍향(16방위)  :  72.0 %\n",
      "풍향 QC플래그  :  84.0 %\n",
      "습도(%)  :  30.0 %\n",
      "습도 QC플래그  :  83.0 %\n",
      "증기압(hPa)  :  72.0 %\n",
      "이슬점온도(°C)  :  72.0 %\n",
      "현지기압(hPa)  :  56.00000000000001 %\n",
      "현지기압 QC플래그  :  83.0 %\n",
      "해면기압(hPa)  :  56.00000000000001 %\n",
      "해면기압 QC플래그  :  83.0 %\n",
      "일조(hr)  :  85.0 %\n",
      "일조 QC플래그  :  79.0 %\n",
      "일사(MJ/m2)  :  90.0 %\n",
      "일사 QC플래그  :  76.0 %\n",
      "적설(cm)  :  100.0 %\n",
      "3시간신적설(cm)  :  100.0 %\n",
      "전운량(10분위)  :  81.0 %\n",
      "중하층운량(10분위)  :  80.0 %\n",
      "운형(운형약어)  :  92.0 %\n",
      "최저운고(100m )  :  90.0 %\n",
      "시정(10m)  :  74.0 %\n",
      "지면상태(지면상태코드)  :  99.0 %\n",
      "현상번호(국내식)  :  95.0 %\n",
      "지면온도(°C)  :  72.0 %\n",
      "지면온도 QC플래그  :  83.0 %\n",
      "5cm 지중온도(°C)  :  88.0 %\n",
      "10cm 지중온도(°C)  :  88.0 %\n",
      "20cm 지중온도(°C)  :  88.0 %\n",
      "30cm 지중온도(°C)  :  88.0 %\n",
      "풍향(deg)  :  32.0 %\n",
      "지점명_y  :  4.0 %\n",
      "지점주소  :  9.0 %\n",
      "위도_y  :  4.0 %\n",
      "경도_y  :  4.0 %\n",
      "망  :  43.0 %\n",
      "----- null_ratio over 50% : -----\n",
      "['기온 QC플래그', '강수량 QC플래그', '풍속 QC플래그', '풍향(16방위)', '풍향 QC플래그', '습도 QC플래그', '증기압(hPa)', '이슬점온도(°C)', '현지기압(hPa)', '현지기압 QC플래그', '해면기압(hPa)', '해면기압 QC플래그', '일조(hr)', '일조 QC플래그', '일사(MJ/m2)', '일사 QC플래그', '적설(cm)', '3시간신적설(cm)', '전운량(10분위)', '중하층운량(10분위)', '운형(운형약어)', '최저운고(100m )', '시정(10m)', '지면상태(지면상태코드)', '현상번호(국내식)', '지면온도(°C)', '지면온도 QC플래그', '5cm 지중온도(°C)', '10cm 지중온도(°C)', '20cm 지중온도(°C)', '30cm 지중온도(°C)']\n"
     ]
    }
   ],
   "source": [
    "data, null_feature = find_null(all_data)"
   ]
  },
  {
   "cell_type": "markdown",
   "metadata": {
    "id": "sNYF6-enn5Y-"
   },
   "source": [
    "# Outlier "
   ]
  },
  {
   "cell_type": "code",
   "execution_count": 37,
   "metadata": {
    "colab": {
     "base_uri": "https://localhost:8080/"
    },
    "id": "krmxjJN9e1PT",
    "outputId": "2efa10cc-81a2-4944-abb9-d5588b28a81f"
   },
   "outputs": [
    {
     "name": "stdout",
     "output_type": "stream",
     "text": [
      "<class 'pandas.core.frame.DataFrame'>\n",
      "Int64Index: 23356143 entries, 0 to 4677476\n",
      "Data columns (total 28 columns):\n",
      " #   Column   Dtype  \n",
      "---  ------   -----  \n",
      " 0   지역       object \n",
      " 1   측정소코드    int64  \n",
      " 2   측정소명     object \n",
      " 3   SO2      float64\n",
      " 4   CO       float64\n",
      " 5   O3       float64\n",
      " 6   NO2      float64\n",
      " 7   PM10     float64\n",
      " 8   PM25     float64\n",
      " 9   주소       object \n",
      " 10  위도_x     float64\n",
      " 11  경도_x     float64\n",
      " 12  기상위도     float64\n",
      " 13  기상경도     float64\n",
      " 14  거리       float64\n",
      " 15  일시       object \n",
      " 16  지점       object \n",
      " 17  지점명_x    object \n",
      " 18  기온(°C)   float64\n",
      " 19  강수량(mm)  float64\n",
      " 20  풍속(m/s)  float64\n",
      " 21  습도(%)    float64\n",
      " 22  풍향(deg)  float64\n",
      " 23  지점명_y    object \n",
      " 24  지점주소     object \n",
      " 25  위도_y     float64\n",
      " 26  경도_y     float64\n",
      " 27  망        object \n",
      "dtypes: float64(18), int64(1), object(9)\n",
      "memory usage: 5.0+ GB\n"
     ]
    }
   ],
   "source": [
    "data.info()"
   ]
  },
  {
   "cell_type": "code",
   "execution_count": 62,
   "metadata": {},
   "outputs": [],
   "source": [
    "data1 = data.drop(['망', '지점명_y', '위도_y' ,'경도_y'], axis=1)"
   ]
  },
  {
   "cell_type": "code",
   "execution_count": 63,
   "metadata": {},
   "outputs": [
    {
     "name": "stdout",
     "output_type": "stream",
     "text": [
      "<class 'pandas.core.frame.DataFrame'>\n",
      "Int64Index: 23356143 entries, 0 to 4677476\n",
      "Data columns (total 24 columns):\n",
      " #   Column   Dtype  \n",
      "---  ------   -----  \n",
      " 0   지역       object \n",
      " 1   측정소코드    int64  \n",
      " 2   측정소명     object \n",
      " 3   SO2      float64\n",
      " 4   CO       float64\n",
      " 5   O3       float64\n",
      " 6   NO2      float64\n",
      " 7   PM10     float64\n",
      " 8   PM25     float64\n",
      " 9   주소       object \n",
      " 10  위도_x     float64\n",
      " 11  경도_x     float64\n",
      " 12  기상위도     float64\n",
      " 13  기상경도     float64\n",
      " 14  거리       float64\n",
      " 15  일시       object \n",
      " 16  지점       object \n",
      " 17  지점명_x    object \n",
      " 18  기온(°C)   float64\n",
      " 19  강수량(mm)  float64\n",
      " 20  풍속(m/s)  float64\n",
      " 21  습도(%)    float64\n",
      " 22  풍향(deg)  float64\n",
      " 23  지점주소     object \n",
      "dtypes: float64(16), int64(1), object(7)\n",
      "memory usage: 4.4+ GB\n"
     ]
    }
   ],
   "source": [
    "data1.info()"
   ]
  },
  {
   "cell_type": "code",
   "execution_count": 64,
   "metadata": {},
   "outputs": [
    {
     "data": {
      "text/plain": [
       "(23356143, 24)"
      ]
     },
     "execution_count": 64,
     "metadata": {},
     "output_type": "execute_result"
    }
   ],
   "source": [
    "data1.shape"
   ]
  },
  {
   "cell_type": "code",
   "execution_count": 66,
   "metadata": {},
   "outputs": [],
   "source": [
    "data2 = data1.dropna(subset=['PM10'], how='all', axis=0)"
   ]
  },
  {
   "cell_type": "code",
   "execution_count": 68,
   "metadata": {},
   "outputs": [
    {
     "data": {
      "text/plain": [
       "(21815903, 24)"
      ]
     },
     "execution_count": 68,
     "metadata": {},
     "output_type": "execute_result"
    }
   ],
   "source": [
    "data2.shape"
   ]
  },
  {
   "cell_type": "code",
   "execution_count": 69,
   "metadata": {
    "id": "ARM8Mrc5n6NG"
   },
   "outputs": [],
   "source": [
    "def plot_out(df):\n",
    "\n",
    "  feature = [i for i in df.columns.to_list() if df[i].dtype == 'float64']\n",
    "\n",
    "\n",
    "  plt.figure(figsize = (25,15))\n",
    "  for i in range(len(feature)):\n",
    "    h = (len(feature) // 4) + 1\n",
    "    plt.subplot(h,4,i+1)\n",
    "    sns.boxplot(x = feature[i],data = df)\n",
    "  plt.show()\n",
    "\n",
    "\n",
    "def find_out(df):\n",
    "\n",
    "  out_count = {}\n",
    "  out_idx = []\n",
    "\n",
    "  #온도\n",
    "  temp = df[df['기온(°C)'] < - 100].index.tolist()\n",
    "  out_idx.extend(temp)\n",
    "  out_count['기온(°C)'] = len(out_idx)\n",
    "  df.loc[temp,'기온(°C)'] = np.NaN\n",
    "\n",
    "  #습도\n",
    "  humid = df[df['습도(%)'] <= -999.9].index.tolist()\n",
    "  out_idx.extend(humid)\n",
    "  out_count['습도(%)'] = len(humid)\n",
    "  df.loc[humid,'습도(%)'] = np.NaN\n",
    "\n",
    "  out_idx = list(set(out_idx))\n",
    "  return out_count, out_idx\n",
    "\n"
   ]
  },
  {
   "cell_type": "code",
   "execution_count": 72,
   "metadata": {
    "id": "lXEMvaDDbn-G"
   },
   "outputs": [],
   "source": [
    "outlier, idx = find_out(data2) # 이상치 -> 결측치"
   ]
  },
  {
   "cell_type": "code",
   "execution_count": 73,
   "metadata": {},
   "outputs": [
    {
     "data": {
      "text/plain": [
       "{'기온(°C)': 4, '습도(%)': 7}"
      ]
     },
     "execution_count": 73,
     "metadata": {},
     "output_type": "execute_result"
    }
   ],
   "source": [
    "outlier"
   ]
  },
  {
   "cell_type": "code",
   "execution_count": 74,
   "metadata": {},
   "outputs": [
    {
     "data": {
      "text/plain": [
       "[1241837, 1243277, 840942, 1018416, 843126, 1243997, 836574]"
      ]
     },
     "execution_count": 74,
     "metadata": {},
     "output_type": "execute_result"
    }
   ],
   "source": [
    "idx"
   ]
  },
  {
   "cell_type": "code",
   "execution_count": 76,
   "metadata": {},
   "outputs": [
    {
     "data": {
      "text/plain": [
       "(21815903, 24)"
      ]
     },
     "execution_count": 76,
     "metadata": {},
     "output_type": "execute_result"
    }
   ],
   "source": [
    "data2.shape"
   ]
  },
  {
   "cell_type": "markdown",
   "metadata": {},
   "source": [
    "# KNN imputation"
   ]
  },
  {
   "cell_type": "code",
   "execution_count": 79,
   "metadata": {},
   "outputs": [
    {
     "data": {
      "text/plain": [
       "지역               0\n",
       "측정소코드            0\n",
       "측정소명             0\n",
       "SO2         455910\n",
       "CO          513402\n",
       "O3          394479\n",
       "NO2         275965\n",
       "PM10             0\n",
       "PM25       7119562\n",
       "주소               0\n",
       "위도_x             0\n",
       "경도_x             0\n",
       "기상위도             0\n",
       "기상경도             0\n",
       "거리               0\n",
       "일시               0\n",
       "지점          859320\n",
       "지점명_x       859320\n",
       "기온(°C)      885005\n",
       "강수량(mm)    6449336\n",
       "풍속(m/s)     925697\n",
       "습도(%)      6446406\n",
       "풍향(deg)    6928179\n",
       "지점주소       2019515\n",
       "dtype: int64"
      ]
     },
     "execution_count": 79,
     "metadata": {},
     "output_type": "execute_result"
    }
   ],
   "source": [
    "data2.isnull().sum()"
   ]
  },
  {
   "cell_type": "code",
   "execution_count": 80,
   "metadata": {},
   "outputs": [],
   "source": [
    "data3 = data2.drop(['PM25'], axis=1) #PM25"
   ]
  },
  {
   "cell_type": "code",
   "execution_count": 81,
   "metadata": {},
   "outputs": [
    {
     "data": {
      "text/html": [
       "<div>\n",
       "<style scoped>\n",
       "    .dataframe tbody tr th:only-of-type {\n",
       "        vertical-align: middle;\n",
       "    }\n",
       "\n",
       "    .dataframe tbody tr th {\n",
       "        vertical-align: top;\n",
       "    }\n",
       "\n",
       "    .dataframe thead th {\n",
       "        text-align: right;\n",
       "    }\n",
       "</style>\n",
       "<table border=\"1\" class=\"dataframe\">\n",
       "  <thead>\n",
       "    <tr style=\"text-align: right;\">\n",
       "      <th></th>\n",
       "      <th>지역</th>\n",
       "      <th>측정소코드</th>\n",
       "      <th>측정소명</th>\n",
       "      <th>SO2</th>\n",
       "      <th>CO</th>\n",
       "      <th>O3</th>\n",
       "      <th>NO2</th>\n",
       "      <th>PM10</th>\n",
       "      <th>주소</th>\n",
       "      <th>위도_x</th>\n",
       "      <th>경도_x</th>\n",
       "      <th>기상위도</th>\n",
       "      <th>기상경도</th>\n",
       "      <th>거리</th>\n",
       "      <th>일시</th>\n",
       "      <th>지점</th>\n",
       "      <th>지점명_x</th>\n",
       "      <th>기온(°C)</th>\n",
       "      <th>강수량(mm)</th>\n",
       "      <th>풍속(m/s)</th>\n",
       "      <th>습도(%)</th>\n",
       "      <th>풍향(deg)</th>\n",
       "      <th>지점주소</th>\n",
       "    </tr>\n",
       "  </thead>\n",
       "  <tbody>\n",
       "    <tr>\n",
       "      <th>0</th>\n",
       "      <td>강원 강릉시</td>\n",
       "      <td>632132</td>\n",
       "      <td>옥천동</td>\n",
       "      <td>0.010</td>\n",
       "      <td>0.6</td>\n",
       "      <td>0.022</td>\n",
       "      <td>0.011</td>\n",
       "      <td>132.0</td>\n",
       "      <td>강원 강릉시 옥천동</td>\n",
       "      <td>37.758266</td>\n",
       "      <td>128.901774</td>\n",
       "      <td>37.7515</td>\n",
       "      <td>128.891</td>\n",
       "      <td>1.209623</td>\n",
       "      <td>2014-01-01 01:00</td>\n",
       "      <td>105.0</td>\n",
       "      <td>강릉</td>\n",
       "      <td>6.6</td>\n",
       "      <td>NaN</td>\n",
       "      <td>5.4</td>\n",
       "      <td>30.0</td>\n",
       "      <td>NaN</td>\n",
       "      <td>강원도 강릉시용강동 63-20강릉자동기상관측소</td>\n",
       "    </tr>\n",
       "    <tr>\n",
       "      <th>1</th>\n",
       "      <td>강원 강릉시</td>\n",
       "      <td>632132</td>\n",
       "      <td>옥천동</td>\n",
       "      <td>0.010</td>\n",
       "      <td>0.6</td>\n",
       "      <td>0.021</td>\n",
       "      <td>0.011</td>\n",
       "      <td>121.0</td>\n",
       "      <td>강원 강릉시 옥천동</td>\n",
       "      <td>37.758266</td>\n",
       "      <td>128.901774</td>\n",
       "      <td>37.7515</td>\n",
       "      <td>128.891</td>\n",
       "      <td>1.209623</td>\n",
       "      <td>2014-01-01 02:00</td>\n",
       "      <td>105.0</td>\n",
       "      <td>강릉</td>\n",
       "      <td>5.9</td>\n",
       "      <td>NaN</td>\n",
       "      <td>2.8</td>\n",
       "      <td>30.0</td>\n",
       "      <td>NaN</td>\n",
       "      <td>강원도 강릉시용강동 63-20강릉자동기상관측소</td>\n",
       "    </tr>\n",
       "    <tr>\n",
       "      <th>2</th>\n",
       "      <td>강원 강릉시</td>\n",
       "      <td>632132</td>\n",
       "      <td>옥천동</td>\n",
       "      <td>0.011</td>\n",
       "      <td>0.9</td>\n",
       "      <td>0.019</td>\n",
       "      <td>0.011</td>\n",
       "      <td>101.0</td>\n",
       "      <td>강원 강릉시 옥천동</td>\n",
       "      <td>37.758266</td>\n",
       "      <td>128.901774</td>\n",
       "      <td>37.7515</td>\n",
       "      <td>128.891</td>\n",
       "      <td>1.209623</td>\n",
       "      <td>2014-01-01 03:00</td>\n",
       "      <td>105.0</td>\n",
       "      <td>강릉</td>\n",
       "      <td>4.5</td>\n",
       "      <td>NaN</td>\n",
       "      <td>0.7</td>\n",
       "      <td>28.0</td>\n",
       "      <td>NaN</td>\n",
       "      <td>강원도 강릉시용강동 63-20강릉자동기상관측소</td>\n",
       "    </tr>\n",
       "    <tr>\n",
       "      <th>3</th>\n",
       "      <td>강원 강릉시</td>\n",
       "      <td>632132</td>\n",
       "      <td>옥천동</td>\n",
       "      <td>0.011</td>\n",
       "      <td>1.0</td>\n",
       "      <td>0.014</td>\n",
       "      <td>0.017</td>\n",
       "      <td>82.0</td>\n",
       "      <td>강원 강릉시 옥천동</td>\n",
       "      <td>37.758266</td>\n",
       "      <td>128.901774</td>\n",
       "      <td>37.7515</td>\n",
       "      <td>128.891</td>\n",
       "      <td>1.209623</td>\n",
       "      <td>2014-01-01 04:00</td>\n",
       "      <td>105.0</td>\n",
       "      <td>강릉</td>\n",
       "      <td>3.8</td>\n",
       "      <td>NaN</td>\n",
       "      <td>1.0</td>\n",
       "      <td>24.0</td>\n",
       "      <td>NaN</td>\n",
       "      <td>강원도 강릉시용강동 63-20강릉자동기상관측소</td>\n",
       "    </tr>\n",
       "    <tr>\n",
       "      <th>4</th>\n",
       "      <td>강원 강릉시</td>\n",
       "      <td>632132</td>\n",
       "      <td>옥천동</td>\n",
       "      <td>0.017</td>\n",
       "      <td>1.4</td>\n",
       "      <td>0.008</td>\n",
       "      <td>0.024</td>\n",
       "      <td>69.0</td>\n",
       "      <td>강원 강릉시 옥천동</td>\n",
       "      <td>37.758266</td>\n",
       "      <td>128.901774</td>\n",
       "      <td>37.7515</td>\n",
       "      <td>128.891</td>\n",
       "      <td>1.209623</td>\n",
       "      <td>2014-01-01 05:00</td>\n",
       "      <td>105.0</td>\n",
       "      <td>강릉</td>\n",
       "      <td>2.7</td>\n",
       "      <td>NaN</td>\n",
       "      <td>0.8</td>\n",
       "      <td>25.0</td>\n",
       "      <td>NaN</td>\n",
       "      <td>강원도 강릉시용강동 63-20강릉자동기상관측소</td>\n",
       "    </tr>\n",
       "  </tbody>\n",
       "</table>\n",
       "</div>"
      ],
      "text/plain": [
       "       지역   측정소코드 측정소명    SO2   CO     O3    NO2   PM10          주소  \\\n",
       "0  강원 강릉시  632132  옥천동  0.010  0.6  0.022  0.011  132.0  강원 강릉시 옥천동   \n",
       "1  강원 강릉시  632132  옥천동  0.010  0.6  0.021  0.011  121.0  강원 강릉시 옥천동   \n",
       "2  강원 강릉시  632132  옥천동  0.011  0.9  0.019  0.011  101.0  강원 강릉시 옥천동   \n",
       "3  강원 강릉시  632132  옥천동  0.011  1.0  0.014  0.017   82.0  강원 강릉시 옥천동   \n",
       "4  강원 강릉시  632132  옥천동  0.017  1.4  0.008  0.024   69.0  강원 강릉시 옥천동   \n",
       "\n",
       "        위도_x        경도_x     기상위도     기상경도        거리                일시     지점  \\\n",
       "0  37.758266  128.901774  37.7515  128.891  1.209623  2014-01-01 01:00  105.0   \n",
       "1  37.758266  128.901774  37.7515  128.891  1.209623  2014-01-01 02:00  105.0   \n",
       "2  37.758266  128.901774  37.7515  128.891  1.209623  2014-01-01 03:00  105.0   \n",
       "3  37.758266  128.901774  37.7515  128.891  1.209623  2014-01-01 04:00  105.0   \n",
       "4  37.758266  128.901774  37.7515  128.891  1.209623  2014-01-01 05:00  105.0   \n",
       "\n",
       "  지점명_x  기온(°C)  강수량(mm)  풍속(m/s)  습도(%)  풍향(deg)                         지점주소  \n",
       "0    강릉     6.6      NaN      5.4   30.0      NaN  강원도 강릉시용강동 63-20강릉자동기상관측소    \n",
       "1    강릉     5.9      NaN      2.8   30.0      NaN  강원도 강릉시용강동 63-20강릉자동기상관측소    \n",
       "2    강릉     4.5      NaN      0.7   28.0      NaN  강원도 강릉시용강동 63-20강릉자동기상관측소    \n",
       "3    강릉     3.8      NaN      1.0   24.0      NaN  강원도 강릉시용강동 63-20강릉자동기상관측소    \n",
       "4    강릉     2.7      NaN      0.8   25.0      NaN  강원도 강릉시용강동 63-20강릉자동기상관측소    "
      ]
     },
     "execution_count": 81,
     "metadata": {},
     "output_type": "execute_result"
    }
   ],
   "source": [
    "data3.head() # 지역, 측정소명, 주소, 지점명_x, 지점주소"
   ]
  },
  {
   "cell_type": "code",
   "execution_count": 83,
   "metadata": {},
   "outputs": [],
   "source": [
    "data3.to_csv('data.csv', index=False)"
   ]
  },
  {
   "cell_type": "code",
   "execution_count": 87,
   "metadata": {},
   "outputs": [
    {
     "data": {
      "text/plain": [
       "(21815903, 23)"
      ]
     },
     "execution_count": 87,
     "metadata": {},
     "output_type": "execute_result"
    }
   ],
   "source": [
    "data3.shape"
   ]
  },
  {
   "cell_type": "code",
   "execution_count": 3,
   "metadata": {},
   "outputs": [
    {
     "data": {
      "text/plain": [
       "(21815903, 23)"
      ]
     },
     "execution_count": 3,
     "metadata": {},
     "output_type": "execute_result"
    }
   ],
   "source": [
    "data4.shape"
   ]
  },
  {
   "cell_type": "code",
   "execution_count": 5,
   "metadata": {},
   "outputs": [
    {
     "name": "stdout",
     "output_type": "stream",
     "text": [
      "<class 'pandas.core.frame.DataFrame'>\n",
      "RangeIndex: 21815903 entries, 0 to 21815902\n",
      "Data columns (total 23 columns):\n",
      " #   Column   Dtype  \n",
      "---  ------   -----  \n",
      " 0   지역       object \n",
      " 1   측정소코드    int64  \n",
      " 2   측정소명     object \n",
      " 3   SO2      float64\n",
      " 4   CO       float64\n",
      " 5   O3       float64\n",
      " 6   NO2      float64\n",
      " 7   PM10     float64\n",
      " 8   주소       object \n",
      " 9   위도_x     float64\n",
      " 10  경도_x     float64\n",
      " 11  기상위도     float64\n",
      " 12  기상경도     float64\n",
      " 13  거리       float64\n",
      " 14  일시       object \n",
      " 15  지점       float64\n",
      " 16  지점명_x    object \n",
      " 17  기온(°C)   float64\n",
      " 18  강수량(mm)  float64\n",
      " 19  풍속(m/s)  float64\n",
      " 20  습도(%)    float64\n",
      " 21  풍향(deg)  float64\n",
      " 22  지점주소     object \n",
      "dtypes: float64(16), int64(1), object(6)\n",
      "memory usage: 3.7+ GB\n"
     ]
    }
   ],
   "source": [
    "data4.info()"
   ]
  },
  {
   "cell_type": "markdown",
   "metadata": {},
   "source": [
    "# Correlation Plot"
   ]
  },
  {
   "cell_type": "code",
   "execution_count": null,
   "metadata": {},
   "outputs": [],
   "source": [
    "col = ['PM10','SO2','CO','O3','NO2','위도_x','경도_x','기상위도','기상경도','기온(°C)','강수량(mm)','풍속(m/s)','습도(%)','풍향(deg)']\n",
    "plt.figure(figsize=(10,10))\n",
    "sns.heatmap(data = data2[col].corr(), annot=True, fmt = '.2f', linewidths=.5, cmap='Blues')"
   ]
  },
  {
   "cell_type": "code",
   "execution_count": 9,
   "metadata": {},
   "outputs": [
    {
     "data": {
      "text/plain": [
       "574"
      ]
     },
     "execution_count": 9,
     "metadata": {},
     "output_type": "execute_result"
    }
   ],
   "source": [
    "import random\n",
    "point = list(set(data4['측정소코드'].to_list()))\n",
    "# test_point = random.smaple(point,   )\n",
    "len(point)"
   ]
  },
  {
   "cell_type": "code",
   "execution_count": 17,
   "metadata": {},
   "outputs": [],
   "source": [
    "# test 100개 (random)\n",
    "np.random.seed(42)\n",
    "test_point = random.sample(point, 100)\n",
    "train_point = [p for p in point if p not in test_point]"
   ]
  },
  {
   "cell_type": "code",
   "execution_count": 18,
   "metadata": {},
   "outputs": [],
   "source": [
    "train_data = data4[(data4['측정소코드'].isin(train_point))].reset_index(drop=True)\n",
    "test_data = data4[(data4['측정소코드'].isin(test_point))].reset_index(drop=True)"
   ]
  },
  {
   "cell_type": "code",
   "execution_count": 20,
   "metadata": {},
   "outputs": [],
   "source": [
    "train_data.to_csv('train.csv', index=False)\n",
    "test_data.to_csv('test.csv', index=False)"
   ]
  },
  {
   "cell_type": "code",
   "execution_count": 3,
   "metadata": {},
   "outputs": [],
   "source": [
    "import pandas as pd\n",
    "train_data = pd.read_csv('train.csv')\n",
    "test_data = pd.read_csv('test.csv')"
   ]
  },
  {
   "cell_type": "code",
   "execution_count": 4,
   "metadata": {},
   "outputs": [
    {
     "data": {
      "text/plain": [
       "지역               0\n",
       "측정소코드            0\n",
       "측정소명             0\n",
       "SO2         333976\n",
       "CO          336705\n",
       "O3          367846\n",
       "NO2         235772\n",
       "PM10             0\n",
       "주소               0\n",
       "위도_x             0\n",
       "경도_x             0\n",
       "기상위도             0\n",
       "기상경도             0\n",
       "거리               0\n",
       "일시               0\n",
       "지점          753317\n",
       "지점명_x       753317\n",
       "기온(°C)      774312\n",
       "강수량(mm)    5358571\n",
       "풍속(m/s)     802741\n",
       "습도(%)      5417622\n",
       "풍향(deg)    5753077\n",
       "지점주소       1790045\n",
       "dtype: int64"
      ]
     },
     "execution_count": 4,
     "metadata": {},
     "output_type": "execute_result"
    }
   ],
   "source": [
    "train_data.isnull().sum()"
   ]
  },
  {
   "cell_type": "markdown",
   "metadata": {},
   "source": [
    "# KNN imputation (train data)"
   ]
  },
  {
   "cell_type": "code",
   "execution_count": 5,
   "metadata": {},
   "outputs": [],
   "source": [
    "data_inpute = train_data[['SO2','CO','O3','NO2','기온(°C)','강수량(mm)','풍속(m/s)','습도(%)','풍향(deg)']]"
   ]
  },
  {
   "cell_type": "code",
   "execution_count": null,
   "metadata": {},
   "outputs": [],
   "source": [
    "from sklearn.impute import KNNImputer\n",
    "imputer = KNNImputer(n_neighbors=5)\n",
    "imputed = imputer.fit_transform(data_inpute)\n",
    "data_imputed = pd.DataFrame(imputed, columns=data_inpute.columns)\n",
    "data_imputed.info()"
   ]
  },
  {
   "cell_type": "code",
   "execution_count": null,
   "metadata": {},
   "outputs": [],
   "source": [
    "data_imputed.isnull().sum()"
   ]
  },
  {
   "cell_type": "code",
   "execution_count": null,
   "metadata": {},
   "outputs": [],
   "source": [
    "data_imputed.to_csv('train_knn.csv', index=False)"
   ]
  },
  {
   "cell_type": "code",
   "execution_count": null,
   "metadata": {},
   "outputs": [],
   "source": [
    "train_data.SO2 = data_imputed.SO2\n",
    "train_data.CO = data_imputed.CO\n",
    "train_data.O3 = data_imputed.O3\n",
    "train_data.NO2 = data_imputed.NO2\n",
    "train_data.기온(°C) = data_imputed.기온(°C)\n",
    "train_data.강수량(mm) = data_imputed.강수량(mm)\n",
    "train_data.풍속(m/s) = data_imputed.풍속(m/s)\n",
    "train_data.습도(%) = data_imputed.습도(%)\n",
    "train_data.풍향(deg) = data_imputed.풍향(deg)"
   ]
  },
  {
   "cell_type": "code",
   "execution_count": null,
   "metadata": {},
   "outputs": [],
   "source": [
    "test_impute = test_data[['SO2','CO','O3','NO2','기온(°C)','강수량(mm)','풍속(m/s)','습도(%)','풍향(deg)']]\n",
    "imputed = imputer.transform(test_impute)\n",
    "test_imputed = pd.DataFrame(imputed, columns=test_impute.columns)\n",
    "test_imputed.info()"
   ]
  },
  {
   "cell_type": "markdown",
   "metadata": {},
   "source": [
    "# Forward fill"
   ]
  },
  {
   "cell_type": "code",
   "execution_count": 2,
   "metadata": {},
   "outputs": [],
   "source": [
    "import pandas as pd\n",
    "import numpy as np\n",
    "import matplotlib.pyplot as plt\n",
    "plt.rc('font', family='NanumBarunGothic') \n",
    "\n",
    "import seaborn as sns\n",
    "# import missingno as mno"
   ]
  },
  {
   "cell_type": "code",
   "execution_count": 1,
   "metadata": {},
   "outputs": [],
   "source": [
    "import pandas as pd\n",
    "import numpy as np\n",
    "import matplotlib.pyplot as plt\n",
    "plt.rc('font', family='NanumBarunGothic') \n",
    "\n",
    "import seaborn as sns\n",
    "# import missingno as mnotrain = pd.read_csv('train.csv')\n",
    "test = pd.read_csv('test.csv')"
   ]
  },
  {
   "cell_type": "code",
   "execution_count": 3,
   "metadata": {},
   "outputs": [
    {
     "name": "stdout",
     "output_type": "stream",
     "text": [
      "<class 'pandas.core.frame.DataFrame'>\n",
      "RangeIndex: 18081790 entries, 0 to 18081789\n",
      "Data columns (total 23 columns):\n",
      " #   Column   Dtype  \n",
      "---  ------   -----  \n",
      " 0   지역       object \n",
      " 1   측정소코드    int64  \n",
      " 2   측정소명     object \n",
      " 3   SO2      float64\n",
      " 4   CO       float64\n",
      " 5   O3       float64\n",
      " 6   NO2      float64\n",
      " 7   PM10     float64\n",
      " 8   주소       object \n",
      " 9   위도_x     float64\n",
      " 10  경도_x     float64\n",
      " 11  기상위도     float64\n",
      " 12  기상경도     float64\n",
      " 13  거리       float64\n",
      " 14  일시       object \n",
      " 15  지점       float64\n",
      " 16  지점명_x    object \n",
      " 17  기온(°C)   float64\n",
      " 18  강수량(mm)  float64\n",
      " 19  풍속(m/s)  float64\n",
      " 20  습도(%)    float64\n",
      " 21  풍향(deg)  float64\n",
      " 22  지점주소     object \n",
      "dtypes: float64(16), int64(1), object(6)\n",
      "memory usage: 3.1+ GB\n"
     ]
    }
   ],
   "source": [
    "train.info()"
   ]
  },
  {
   "cell_type": "code",
   "execution_count": 4,
   "metadata": {},
   "outputs": [
    {
     "data": {
      "text/plain": [
       "지역               0\n",
       "측정소코드            0\n",
       "측정소명             0\n",
       "SO2         333976\n",
       "CO          336705\n",
       "O3          367846\n",
       "NO2         235772\n",
       "PM10             0\n",
       "주소               0\n",
       "위도_x             0\n",
       "경도_x             0\n",
       "기상위도             0\n",
       "기상경도             0\n",
       "거리               0\n",
       "일시               0\n",
       "지점          753317\n",
       "지점명_x       753317\n",
       "기온(°C)      774312\n",
       "강수량(mm)    5358571\n",
       "풍속(m/s)     802741\n",
       "습도(%)      5417622\n",
       "풍향(deg)    5753077\n",
       "지점주소       1790045\n",
       "dtype: int64"
      ]
     },
     "execution_count": 4,
     "metadata": {},
     "output_type": "execute_result"
    }
   ],
   "source": [
    "train.isnull().sum()"
   ]
  },
  {
   "cell_type": "code",
   "execution_count": 8,
   "metadata": {},
   "outputs": [],
   "source": [
    "data_impute = train[['SO2','CO','O3','NO2','기온(°C)','강수량(mm)','풍속(m/s)','습도(%)','풍향(deg)']]"
   ]
  },
  {
   "cell_type": "code",
   "execution_count": 9,
   "metadata": {},
   "outputs": [
    {
     "data": {
      "text/plain": [
       "SO2           0\n",
       "CO            0\n",
       "O3            0\n",
       "NO2           0\n",
       "기온(°C)        0\n",
       "강수량(mm)      14\n",
       "풍속(m/s)       0\n",
       "습도(%)         0\n",
       "풍향(deg)    2087\n",
       "dtype: int64"
      ]
     },
     "execution_count": 9,
     "metadata": {},
     "output_type": "execute_result"
    }
   ],
   "source": [
    "data_impute.fillna(method='ffill', inplace=True)\n",
    "data_impute.isnull().sum()"
   ]
  },
  {
   "cell_type": "code",
   "execution_count": 10,
   "metadata": {},
   "outputs": [
    {
     "data": {
      "text/plain": [
       "SO2           0\n",
       "CO            0\n",
       "O3            0\n",
       "NO2           0\n",
       "기온(°C)        0\n",
       "강수량(mm)      14\n",
       "풍속(m/s)       0\n",
       "습도(%)         0\n",
       "풍향(deg)    2087\n",
       "dtype: int64"
      ]
     },
     "execution_count": 10,
     "metadata": {},
     "output_type": "execute_result"
    }
   ],
   "source": [
    "data_impute.fillna(method='ffill', inplace=True)\n",
    "data_impute.isnull().sum()"
   ]
  },
  {
   "cell_type": "code",
   "execution_count": 18,
   "metadata": {},
   "outputs": [
    {
     "data": {
      "text/plain": [
       "0    NaN\n",
       "1    NaN\n",
       "2    NaN\n",
       "3    NaN\n",
       "4    NaN\n",
       "5    NaN\n",
       "6    NaN\n",
       "7    NaN\n",
       "8    NaN\n",
       "9    NaN\n",
       "10   NaN\n",
       "11   NaN\n",
       "12   NaN\n",
       "13   NaN\n",
       "Name: 강수량(mm), dtype: float64"
      ]
     },
     "execution_count": 18,
     "metadata": {},
     "output_type": "execute_result"
    }
   ],
   "source": [
    "data_impute['강수량(mm)'][data_impute['강수량(mm)'].isnull()==True]"
   ]
  },
  {
   "cell_type": "code",
   "execution_count": 19,
   "metadata": {},
   "outputs": [
    {
     "data": {
      "text/plain": [
       "0      NaN\n",
       "1      NaN\n",
       "2      NaN\n",
       "3      NaN\n",
       "4      NaN\n",
       "        ..\n",
       "2082   NaN\n",
       "2083   NaN\n",
       "2084   NaN\n",
       "2085   NaN\n",
       "2086   NaN\n",
       "Name: 풍향(deg), Length: 2087, dtype: float64"
      ]
     },
     "execution_count": 19,
     "metadata": {},
     "output_type": "execute_result"
    }
   ],
   "source": [
    "data_impute['풍향(deg)'][data_impute['풍향(deg)'].isnull()==True]"
   ]
  },
  {
   "cell_type": "markdown",
   "metadata": {},
   "source": [
    "# Linear Interpolate"
   ]
  },
  {
   "cell_type": "markdown",
   "metadata": {},
   "source": [
    "관측소별로 ts 정렬된 데이터셋마다 interpolate 적용"
   ]
  },
  {
   "cell_type": "code",
   "execution_count": 47,
   "metadata": {},
   "outputs": [],
   "source": [
    "import pandas as pd\n",
    "import numpy as np\n",
    "import matplotlib.pyplot as plt\n",
    "plt.rc('font', family='NanumBarunGothic') \n",
    "\n",
    "import seaborn as sns\n",
    "# import missingno as mnotrain = pd.read_csv('train.csv')\n",
    "train = pd.read_csv('train.csv')\n",
    "test = pd.read_csv('test.csv')"
   ]
  },
  {
   "cell_type": "code",
   "execution_count": 53,
   "metadata": {},
   "outputs": [
    {
     "data": {
      "text/html": [
       "<div>\n",
       "<style scoped>\n",
       "    .dataframe tbody tr th:only-of-type {\n",
       "        vertical-align: middle;\n",
       "    }\n",
       "\n",
       "    .dataframe tbody tr th {\n",
       "        vertical-align: top;\n",
       "    }\n",
       "\n",
       "    .dataframe thead th {\n",
       "        text-align: right;\n",
       "    }\n",
       "</style>\n",
       "<table border=\"1\" class=\"dataframe\">\n",
       "  <thead>\n",
       "    <tr style=\"text-align: right;\">\n",
       "      <th></th>\n",
       "      <th>지역</th>\n",
       "      <th>측정소코드</th>\n",
       "      <th>측정소명</th>\n",
       "      <th>SO2</th>\n",
       "      <th>CO</th>\n",
       "      <th>O3</th>\n",
       "      <th>NO2</th>\n",
       "      <th>PM10</th>\n",
       "      <th>주소</th>\n",
       "      <th>위도_x</th>\n",
       "      <th>...</th>\n",
       "      <th>거리</th>\n",
       "      <th>일시</th>\n",
       "      <th>지점</th>\n",
       "      <th>지점명_x</th>\n",
       "      <th>기온(°C)</th>\n",
       "      <th>강수량(mm)</th>\n",
       "      <th>풍속(m/s)</th>\n",
       "      <th>습도(%)</th>\n",
       "      <th>풍향(deg)</th>\n",
       "      <th>지점주소</th>\n",
       "    </tr>\n",
       "  </thead>\n",
       "  <tbody>\n",
       "    <tr>\n",
       "      <th>0</th>\n",
       "      <td>강원 강릉시</td>\n",
       "      <td>632132</td>\n",
       "      <td>옥천동</td>\n",
       "      <td>0.010</td>\n",
       "      <td>0.6</td>\n",
       "      <td>0.022</td>\n",
       "      <td>0.011</td>\n",
       "      <td>132.0</td>\n",
       "      <td>강원 강릉시 옥천동</td>\n",
       "      <td>37.758266</td>\n",
       "      <td>...</td>\n",
       "      <td>1.209623</td>\n",
       "      <td>2014-01-01 01:00</td>\n",
       "      <td>105.0</td>\n",
       "      <td>강릉</td>\n",
       "      <td>6.6</td>\n",
       "      <td>NaN</td>\n",
       "      <td>5.4</td>\n",
       "      <td>30.0</td>\n",
       "      <td>NaN</td>\n",
       "      <td>강원도 강릉시용강동 63-20강릉자동기상관측소</td>\n",
       "    </tr>\n",
       "    <tr>\n",
       "      <th>1</th>\n",
       "      <td>강원 강릉시</td>\n",
       "      <td>632132</td>\n",
       "      <td>옥천동</td>\n",
       "      <td>0.010</td>\n",
       "      <td>0.6</td>\n",
       "      <td>0.021</td>\n",
       "      <td>0.011</td>\n",
       "      <td>121.0</td>\n",
       "      <td>강원 강릉시 옥천동</td>\n",
       "      <td>37.758266</td>\n",
       "      <td>...</td>\n",
       "      <td>1.209623</td>\n",
       "      <td>2014-01-01 02:00</td>\n",
       "      <td>105.0</td>\n",
       "      <td>강릉</td>\n",
       "      <td>5.9</td>\n",
       "      <td>NaN</td>\n",
       "      <td>2.8</td>\n",
       "      <td>30.0</td>\n",
       "      <td>NaN</td>\n",
       "      <td>강원도 강릉시용강동 63-20강릉자동기상관측소</td>\n",
       "    </tr>\n",
       "    <tr>\n",
       "      <th>2</th>\n",
       "      <td>강원 강릉시</td>\n",
       "      <td>632132</td>\n",
       "      <td>옥천동</td>\n",
       "      <td>0.011</td>\n",
       "      <td>0.9</td>\n",
       "      <td>0.019</td>\n",
       "      <td>0.011</td>\n",
       "      <td>101.0</td>\n",
       "      <td>강원 강릉시 옥천동</td>\n",
       "      <td>37.758266</td>\n",
       "      <td>...</td>\n",
       "      <td>1.209623</td>\n",
       "      <td>2014-01-01 03:00</td>\n",
       "      <td>105.0</td>\n",
       "      <td>강릉</td>\n",
       "      <td>4.5</td>\n",
       "      <td>NaN</td>\n",
       "      <td>0.7</td>\n",
       "      <td>28.0</td>\n",
       "      <td>NaN</td>\n",
       "      <td>강원도 강릉시용강동 63-20강릉자동기상관측소</td>\n",
       "    </tr>\n",
       "    <tr>\n",
       "      <th>3</th>\n",
       "      <td>강원 강릉시</td>\n",
       "      <td>632132</td>\n",
       "      <td>옥천동</td>\n",
       "      <td>0.011</td>\n",
       "      <td>1.0</td>\n",
       "      <td>0.014</td>\n",
       "      <td>0.017</td>\n",
       "      <td>82.0</td>\n",
       "      <td>강원 강릉시 옥천동</td>\n",
       "      <td>37.758266</td>\n",
       "      <td>...</td>\n",
       "      <td>1.209623</td>\n",
       "      <td>2014-01-01 04:00</td>\n",
       "      <td>105.0</td>\n",
       "      <td>강릉</td>\n",
       "      <td>3.8</td>\n",
       "      <td>NaN</td>\n",
       "      <td>1.0</td>\n",
       "      <td>24.0</td>\n",
       "      <td>NaN</td>\n",
       "      <td>강원도 강릉시용강동 63-20강릉자동기상관측소</td>\n",
       "    </tr>\n",
       "    <tr>\n",
       "      <th>4</th>\n",
       "      <td>강원 강릉시</td>\n",
       "      <td>632132</td>\n",
       "      <td>옥천동</td>\n",
       "      <td>0.017</td>\n",
       "      <td>1.4</td>\n",
       "      <td>0.008</td>\n",
       "      <td>0.024</td>\n",
       "      <td>69.0</td>\n",
       "      <td>강원 강릉시 옥천동</td>\n",
       "      <td>37.758266</td>\n",
       "      <td>...</td>\n",
       "      <td>1.209623</td>\n",
       "      <td>2014-01-01 05:00</td>\n",
       "      <td>105.0</td>\n",
       "      <td>강릉</td>\n",
       "      <td>2.7</td>\n",
       "      <td>NaN</td>\n",
       "      <td>0.8</td>\n",
       "      <td>25.0</td>\n",
       "      <td>NaN</td>\n",
       "      <td>강원도 강릉시용강동 63-20강릉자동기상관측소</td>\n",
       "    </tr>\n",
       "  </tbody>\n",
       "</table>\n",
       "<p>5 rows × 23 columns</p>\n",
       "</div>"
      ],
      "text/plain": [
       "       지역   측정소코드 측정소명    SO2   CO     O3    NO2   PM10          주소  \\\n",
       "0  강원 강릉시  632132  옥천동  0.010  0.6  0.022  0.011  132.0  강원 강릉시 옥천동   \n",
       "1  강원 강릉시  632132  옥천동  0.010  0.6  0.021  0.011  121.0  강원 강릉시 옥천동   \n",
       "2  강원 강릉시  632132  옥천동  0.011  0.9  0.019  0.011  101.0  강원 강릉시 옥천동   \n",
       "3  강원 강릉시  632132  옥천동  0.011  1.0  0.014  0.017   82.0  강원 강릉시 옥천동   \n",
       "4  강원 강릉시  632132  옥천동  0.017  1.4  0.008  0.024   69.0  강원 강릉시 옥천동   \n",
       "\n",
       "        위도_x  ...        거리                일시     지점  지점명_x 기온(°C)  강수량(mm)  \\\n",
       "0  37.758266  ...  1.209623  2014-01-01 01:00  105.0     강릉    6.6      NaN   \n",
       "1  37.758266  ...  1.209623  2014-01-01 02:00  105.0     강릉    5.9      NaN   \n",
       "2  37.758266  ...  1.209623  2014-01-01 03:00  105.0     강릉    4.5      NaN   \n",
       "3  37.758266  ...  1.209623  2014-01-01 04:00  105.0     강릉    3.8      NaN   \n",
       "4  37.758266  ...  1.209623  2014-01-01 05:00  105.0     강릉    2.7      NaN   \n",
       "\n",
       "  풍속(m/s)  습도(%)  풍향(deg)                         지점주소  \n",
       "0     5.4   30.0      NaN  강원도 강릉시용강동 63-20강릉자동기상관측소    \n",
       "1     2.8   30.0      NaN  강원도 강릉시용강동 63-20강릉자동기상관측소    \n",
       "2     0.7   28.0      NaN  강원도 강릉시용강동 63-20강릉자동기상관측소    \n",
       "3     1.0   24.0      NaN  강원도 강릉시용강동 63-20강릉자동기상관측소    \n",
       "4     0.8   25.0      NaN  강원도 강릉시용강동 63-20강릉자동기상관측소    \n",
       "\n",
       "[5 rows x 23 columns]"
      ]
     },
     "execution_count": 53,
     "metadata": {},
     "output_type": "execute_result"
    }
   ],
   "source": [
    "train.head()"
   ]
  },
  {
   "cell_type": "code",
   "execution_count": 48,
   "metadata": {},
   "outputs": [
    {
     "data": {
      "text/plain": [
       "474"
      ]
     },
     "execution_count": 48,
     "metadata": {},
     "output_type": "execute_result"
    }
   ],
   "source": [
    "len(train.측정소코드.unique()) # 474개 train 관측소"
   ]
  },
  {
   "cell_type": "code",
   "execution_count": 49,
   "metadata": {},
   "outputs": [],
   "source": [
    "train_point = train.측정소코드.unique()"
   ]
  },
  {
   "cell_type": "code",
   "execution_count": 50,
   "metadata": {},
   "outputs": [
    {
     "data": {
      "text/plain": [
       "array([632132, 632421, 632151, 632161, 132401, 632121, 632122, 132112,\n",
       "       131611, 131381, 131382, 131383, 131202, 131161, 131163, 131501,\n",
       "       131502, 131471, 131472, 131473, 131241, 131571, 831151, 831152,\n",
       "       831153, 831155, 131120, 131121, 131123, 131124, 131125, 131126,\n",
       "       131128, 131129, 131111, 131112, 131113, 131116, 131117, 131231,\n",
       "       131232, 131233, 131191, 131192, 131193, 131195, 131196, 131197,\n",
       "       131198, 131581, 131141, 131142, 131144, 131145, 131561, 131621,\n",
       "       131591, 131601, 131531, 131411, 131413, 131414, 131222, 131223,\n",
       "       131131, 131132, 131371, 131341, 131342, 131343, 131451, 131551,\n",
       "       131552, 131553, 238191, 238201, 238481, 238182, 238211, 238362,\n",
       "       238131, 238132, 238133, 238111, 238141, 238142, 238143, 238144,\n",
       "       238145, 238146, 238151, 238241, 238161, 437171, 437122, 437151,\n",
       "       437152, 437154, 437131, 437141, 437371, 437161, 437401, 437541,\n",
       "       437411, 437113, 437114, 437115, 437116, 324141, 324155, 324115,\n",
       "       324133, 324134, 324123, 422141, 422171, 422201, 422121, 422154,\n",
       "       422153, 422155, 422132, 422133, 422115, 422161, 422114, 525111,\n",
       "       525112, 525161, 525171, 525173, 525142, 525121, 525151, 221211,\n",
       "       221191, 221251, 221231, 221233, 221172, 221131, 221241, 221162,\n",
       "       221152, 221181, 221202, 221281, 221271, 221221, 221141, 221112,\n",
       "       111121, 111123, 111125, 111131, 111141, 111142, 111143, 111151,\n",
       "       111152, 111154, 111161, 111162, 111171, 111181, 111191, 111201,\n",
       "       111212, 111213, 111221, 111232, 111241, 111242, 111251, 111261,\n",
       "       111263, 111264, 111274, 111275, 111281, 111291, 111301, 111311,\n",
       "       111312, 238122, 238123, 238124, 238125, 238126, 238127, 238129,\n",
       "       238120, 238130, 238128, 238371, 238373, 238375, 823691, 831481,\n",
       "       823662, 823632, 823633, 823631, 823671, 823704, 823703, 823634,\n",
       "       823641, 823651, 823652, 823681, 823801, 823701, 831492, 823611,\n",
       "       823702, 336352, 336353, 336111, 336112, 336131, 336132, 336134,\n",
       "       336124, 336125, 336127, 336128, 336441, 336451, 735161, 735122,\n",
       "       735123, 735151, 735132, 735133, 735134, 335115, 735111, 735114,\n",
       "       735116, 735141, 339121, 339111, 339112, 339312, 534341, 534431,\n",
       "       534421, 534422, 534441, 534112, 534114, 534461, 633311, 633131,\n",
       "       533112, 533116, 633211, 633122, 633123, 131372, 735171, 541112,\n",
       "       735181, 633411, 131384, 422202, 634111, 131373, 534342, 534411,\n",
       "       534451, 534462, 534471, 534481, 534491, 534463, 238376, 339122,\n",
       "       238401, 238411, 437181, 437191, 534501, 534502, 131454, 131562,\n",
       "       336151, 336161, 422203, 422204, 534115, 534434, 534443, 534444,\n",
       "       534445, 534510, 632171, 735191, 735201, 735520, 735521, 823705,\n",
       "       823706, 336361, 633471, 633481, 131243, 131244, 131554, 238381,\n",
       "       336221, 336222, 336223, 541114, 735115, 735371, 111282, 221901,\n",
       "       221902, 336461, 525143, 525162, 632124, 632432, 735162, 735381,\n",
       "       735391, 132402, 238421, 238431, 238441, 238451, 238461, 336135,\n",
       "       336471, 437402, 632372, 632451, 632461, 632472, 633491, 131443,\n",
       "       336491, 422205, 437421, 534492, 632481, 632501, 633213, 633214,\n",
       "       633362, 735522, 336531, 336452, 131118, 632521, 131415, 131416,\n",
       "       131417, 437431, 131532, 336541, 221283, 221284, 336561, 437117,\n",
       "       437118, 437119, 336551, 336571, 823803, 437551, 238152, 238184,\n",
       "       238471, 238491, 238501, 238511, 131234, 131474, 324124, 324148,\n",
       "       339211, 437123, 437124, 437125, 437201, 534116, 831493, 131374,\n",
       "       131444, 131592, 437412, 437561, 735124, 735125, 735131, 735135,\n",
       "       131345, 131583, 238377, 437133, 437211, 437591, 633312, 735136,\n",
       "       221183, 221193, 422206, 437221, 437571, 437581, 633124, 633125,\n",
       "       633313, 735192, 735601, 823612, 823636, 131235, 131584, 633215,\n",
       "       633363, 633463, 735117, 131245, 131612, 131622, 534343, 131475,\n",
       "       131557, 131558, 336442, 633132, 633133, 132901, 221903, 238901,\n",
       "       238902, 437901, 534452, 534902, 534903, 831495, 221213, 238378,\n",
       "       336462, 336901, 336903, 534503, 735901, 132993, 437202, 823613,\n",
       "       131133, 132991, 132992, 132994, 534901, 131395, 131593, 131991,\n",
       "       238113, 238134, 238203, 238212, 238379, 324125, 437203, 525144,\n",
       "       823637, 831494], dtype=int64)"
      ]
     },
     "execution_count": 50,
     "metadata": {},
     "output_type": "execute_result"
    }
   ],
   "source": [
    "train_point"
   ]
  },
  {
   "cell_type": "code",
   "execution_count": 84,
   "metadata": {},
   "outputs": [
    {
     "name": "stdout",
     "output_type": "stream",
     "text": [
      "=====FINAL INTERPOLATED DATASET=====\n",
      "<class 'pandas.core.frame.DataFrame'>\n",
      "DatetimeIndex: 18081790 entries, 2014-01-01 01:00:00 to 2021-01-01 00:00:00\n",
      "Data columns (total 22 columns):\n",
      " #   Column   Dtype  \n",
      "---  ------   -----  \n",
      " 0   지역       object \n",
      " 1   측정소코드    int64  \n",
      " 2   측정소명     object \n",
      " 3   SO2      float64\n",
      " 4   CO       float64\n",
      " 5   O3       float64\n",
      " 6   NO2      float64\n",
      " 7   PM10     float64\n",
      " 8   주소       object \n",
      " 9   위도_x     float64\n",
      " 10  경도_x     float64\n",
      " 11  기상위도     float64\n",
      " 12  기상경도     float64\n",
      " 13  거리       float64\n",
      " 14  지점       float64\n",
      " 15  지점명_x    object \n",
      " 16  기온(°C)   float64\n",
      " 17  강수량(mm)  float64\n",
      " 18  풍속(m/s)  float64\n",
      " 19  습도(%)    float64\n",
      " 20  풍향(deg)  float64\n",
      " 21  지점주소     object \n",
      "dtypes: float64(16), int64(1), object(5)\n",
      "memory usage: 3.1+ GB\n",
      "None\n",
      "지역               0\n",
      "측정소코드            0\n",
      "측정소명             0\n",
      "SO2          64871\n",
      "CO           64871\n",
      "O3          175668\n",
      "NO2              0\n",
      "PM10             0\n",
      "주소               0\n",
      "위도_x             0\n",
      "경도_x             0\n",
      "기상위도             0\n",
      "기상경도             0\n",
      "거리               0\n",
      "지점          753317\n",
      "지점명_x       753317\n",
      "기온(°C)       82247\n",
      "강수량(mm)      82270\n",
      "풍속(m/s)      82247\n",
      "습도(%)       424378\n",
      "풍향(deg)    5015578\n",
      "지점주소       1790045\n",
      "dtype: int64\n"
     ]
    }
   ],
   "source": [
    "# 관측소별로 연속형 변수 보간\n",
    "for point in train_point:\n",
    "    # 관측소별로 시간순 정렬된 데이터셋 생성\n",
    "    df = train[train.측정소코드==point].reset_index(drop=True)\n",
    "    # print(len(df))\n",
    "    # print(df.isnull().sum())\n",
    "    df['일시'] = pd.to_datetime(df['일시'], format='%Y-%m-%d %H:%M')\n",
    "    df = df.sort_values('일시', ascending=True)\n",
    "    df = df.reset_index(drop=True)\n",
    "    # 일시를 인덱스로 변경\n",
    "    df2 = df.copy()\n",
    "    df2['일시'] = pd.to_datetime(df2['일시'])\n",
    "    df2.index = df2['일시']\n",
    "    del df2['일시']\n",
    "    # interpolate\n",
    "    cols = ['SO2','CO','O3','NO2','기온(°C)','강수량(mm)','풍속(m/s)','습도(%)','풍향(deg)']\n",
    "    df_interpol = df2.copy()\n",
    "    for col in cols:\n",
    "        df_interpol[col] = df2[col].interpolate(method='linear', limit_direction='both')\n",
    "    globals()['train_{}_interpol'.format(point)] = df_interpol\n",
    "\n",
    "# 전체 데이터 concat\n",
    "train_interpol = pd.DataFrame()\n",
    "for point in train_point:\n",
    "    train_interpol = pd.concat([train_interpol,globals()['train_{}_interpol'.format(point)]], axis=0)\n",
    "print('=====FINAL INTERPOLATED DATASET=====')\n",
    "print(train_interpol.info())\n",
    "print(train_interpol.isnull().sum())"
   ]
  },
  {
   "cell_type": "code",
   "execution_count": 88,
   "metadata": {},
   "outputs": [
    {
     "name": "stdout",
     "output_type": "stream",
     "text": [
      "=====FINAL INTERPOLATED DATASET=====\n",
      "<class 'pandas.core.frame.DataFrame'>\n",
      "DatetimeIndex: 3734113 entries, 2014-01-01 01:00:00 to 2021-01-01 00:00:00\n",
      "Data columns (total 22 columns):\n",
      " #   Column   Dtype  \n",
      "---  ------   -----  \n",
      " 0   지역       object \n",
      " 1   측정소코드    int64  \n",
      " 2   측정소명     object \n",
      " 3   SO2      float64\n",
      " 4   CO       float64\n",
      " 5   O3       float64\n",
      " 6   NO2      float64\n",
      " 7   PM10     float64\n",
      " 8   주소       object \n",
      " 9   위도_x     float64\n",
      " 10  경도_x     float64\n",
      " 11  기상위도     float64\n",
      " 12  기상경도     float64\n",
      " 13  거리       float64\n",
      " 14  지점       float64\n",
      " 15  지점명_x    object \n",
      " 16  기온(°C)   float64\n",
      " 17  강수량(mm)  float64\n",
      " 18  풍속(m/s)  float64\n",
      " 19  습도(%)    float64\n",
      " 20  풍향(deg)  float64\n",
      " 21  지점주소     object \n",
      "dtypes: float64(16), int64(1), object(5)\n",
      "memory usage: 655.2+ MB\n",
      "None\n",
      "지역               0\n",
      "측정소코드            0\n",
      "측정소명             0\n",
      "SO2          59524\n",
      "CO          112876\n",
      "O3               0\n",
      "NO2              0\n",
      "PM10             0\n",
      "주소               0\n",
      "위도_x             0\n",
      "경도_x             0\n",
      "기상위도             0\n",
      "기상경도             0\n",
      "거리               0\n",
      "지점          106003\n",
      "지점명_x       106003\n",
      "기온(°C)        7284\n",
      "강수량(mm)       7284\n",
      "풍속(m/s)       7284\n",
      "습도(%)        47214\n",
      "풍향(deg)    1026503\n",
      "지점주소        229470\n",
      "dtype: int64\n"
     ]
    }
   ],
   "source": [
    "test_point = test.측정소코드.unique()\n",
    "\n",
    "# 관측소별로 연속형 변수 보간\n",
    "for point in test_point:\n",
    "    # 관측소별로 시간순 정렬된 데이터셋 생성\n",
    "    df = test[test.측정소코드==point].reset_index(drop=True)\n",
    "    # print(len(df))\n",
    "    # print(df.isnull().sum())\n",
    "    df['일시'] = pd.to_datetime(df['일시'], format='%Y-%m-%d %H:%M')\n",
    "    df = df.sort_values('일시', ascending=True)\n",
    "    df = df.reset_index(drop=True)\n",
    "    # 일시를 인덱스로 변경\n",
    "    df2 = df.copy()\n",
    "    df2['일시'] = pd.to_datetime(df2['일시'])\n",
    "    df2.index = df2['일시']\n",
    "    del df2['일시']\n",
    "    # interpolate\n",
    "    cols = ['SO2','CO','O3','NO2','기온(°C)','강수량(mm)','풍속(m/s)','습도(%)','풍향(deg)']\n",
    "    df_interpol = df2.copy()\n",
    "    for col in cols:\n",
    "        df_interpol[col] = df2[col].interpolate(method='linear', limit_direction='both')\n",
    "    globals()['test_{}_interpol'.format(point)] = df_interpol\n",
    "\n",
    "# 전체 데이터 concat\n",
    "test_interpol = pd.DataFrame()\n",
    "for point in test_point:\n",
    "    test_interpol = pd.concat([test_interpol,globals()['test_{}_interpol'.format(point)]], axis=0)\n",
    "print('=====FINAL INTERPOLATED DATASET=====')\n",
    "print(test_interpol.info())\n",
    "print(test_interpol.isnull().sum())\n",
    "\n",
    "test_interpol.to_csv('test_interpol.csv', index=True)"
   ]
  },
  {
   "cell_type": "code",
   "execution_count": 85,
   "metadata": {},
   "outputs": [
    {
     "data": {
      "text/plain": [
       "지역               0\n",
       "측정소코드            0\n",
       "측정소명             0\n",
       "SO2          64871\n",
       "CO           64871\n",
       "O3          175668\n",
       "NO2              0\n",
       "PM10             0\n",
       "주소               0\n",
       "위도_x             0\n",
       "경도_x             0\n",
       "기상위도             0\n",
       "기상경도             0\n",
       "거리               0\n",
       "지점          753317\n",
       "지점명_x       753317\n",
       "기온(°C)       82247\n",
       "강수량(mm)      82270\n",
       "풍속(m/s)      82247\n",
       "습도(%)       424378\n",
       "풍향(deg)    5015578\n",
       "지점주소       1790045\n",
       "dtype: int64"
      ]
     },
     "execution_count": 85,
     "metadata": {},
     "output_type": "execute_result"
    }
   ],
   "source": [
    "train_interpol.isnull().sum()"
   ]
  },
  {
   "cell_type": "code",
   "execution_count": 86,
   "metadata": {},
   "outputs": [
    {
     "data": {
      "text/html": [
       "<div>\n",
       "<style scoped>\n",
       "    .dataframe tbody tr th:only-of-type {\n",
       "        vertical-align: middle;\n",
       "    }\n",
       "\n",
       "    .dataframe tbody tr th {\n",
       "        vertical-align: top;\n",
       "    }\n",
       "\n",
       "    .dataframe thead th {\n",
       "        text-align: right;\n",
       "    }\n",
       "</style>\n",
       "<table border=\"1\" class=\"dataframe\">\n",
       "  <thead>\n",
       "    <tr style=\"text-align: right;\">\n",
       "      <th></th>\n",
       "      <th>지역</th>\n",
       "      <th>측정소코드</th>\n",
       "      <th>측정소명</th>\n",
       "      <th>SO2</th>\n",
       "      <th>CO</th>\n",
       "      <th>O3</th>\n",
       "      <th>NO2</th>\n",
       "      <th>PM10</th>\n",
       "      <th>주소</th>\n",
       "      <th>위도_x</th>\n",
       "      <th>...</th>\n",
       "      <th>기상경도</th>\n",
       "      <th>거리</th>\n",
       "      <th>지점</th>\n",
       "      <th>지점명_x</th>\n",
       "      <th>기온(°C)</th>\n",
       "      <th>강수량(mm)</th>\n",
       "      <th>풍속(m/s)</th>\n",
       "      <th>습도(%)</th>\n",
       "      <th>풍향(deg)</th>\n",
       "      <th>지점주소</th>\n",
       "    </tr>\n",
       "    <tr>\n",
       "      <th>일시</th>\n",
       "      <th></th>\n",
       "      <th></th>\n",
       "      <th></th>\n",
       "      <th></th>\n",
       "      <th></th>\n",
       "      <th></th>\n",
       "      <th></th>\n",
       "      <th></th>\n",
       "      <th></th>\n",
       "      <th></th>\n",
       "      <th></th>\n",
       "      <th></th>\n",
       "      <th></th>\n",
       "      <th></th>\n",
       "      <th></th>\n",
       "      <th></th>\n",
       "      <th></th>\n",
       "      <th></th>\n",
       "      <th></th>\n",
       "      <th></th>\n",
       "      <th></th>\n",
       "    </tr>\n",
       "  </thead>\n",
       "  <tbody>\n",
       "    <tr>\n",
       "      <th>2014-01-01 01:00:00</th>\n",
       "      <td>강원 강릉시</td>\n",
       "      <td>632132</td>\n",
       "      <td>옥천동</td>\n",
       "      <td>0.0100</td>\n",
       "      <td>0.6</td>\n",
       "      <td>0.022</td>\n",
       "      <td>0.0110</td>\n",
       "      <td>132.0</td>\n",
       "      <td>강원 강릉시 옥천동</td>\n",
       "      <td>37.758266</td>\n",
       "      <td>...</td>\n",
       "      <td>128.8910</td>\n",
       "      <td>1.209623</td>\n",
       "      <td>105.0</td>\n",
       "      <td>강릉</td>\n",
       "      <td>6.6</td>\n",
       "      <td>0.0</td>\n",
       "      <td>5.4</td>\n",
       "      <td>30.0</td>\n",
       "      <td>NaN</td>\n",
       "      <td>강원도 강릉시용강동 63-20강릉자동기상관측소</td>\n",
       "    </tr>\n",
       "    <tr>\n",
       "      <th>2014-01-01 02:00:00</th>\n",
       "      <td>강원 강릉시</td>\n",
       "      <td>632132</td>\n",
       "      <td>옥천동</td>\n",
       "      <td>0.0100</td>\n",
       "      <td>0.6</td>\n",
       "      <td>0.021</td>\n",
       "      <td>0.0110</td>\n",
       "      <td>121.0</td>\n",
       "      <td>강원 강릉시 옥천동</td>\n",
       "      <td>37.758266</td>\n",
       "      <td>...</td>\n",
       "      <td>128.8910</td>\n",
       "      <td>1.209623</td>\n",
       "      <td>105.0</td>\n",
       "      <td>강릉</td>\n",
       "      <td>5.9</td>\n",
       "      <td>0.0</td>\n",
       "      <td>2.8</td>\n",
       "      <td>30.0</td>\n",
       "      <td>NaN</td>\n",
       "      <td>강원도 강릉시용강동 63-20강릉자동기상관측소</td>\n",
       "    </tr>\n",
       "    <tr>\n",
       "      <th>2014-01-01 03:00:00</th>\n",
       "      <td>강원 강릉시</td>\n",
       "      <td>632132</td>\n",
       "      <td>옥천동</td>\n",
       "      <td>0.0110</td>\n",
       "      <td>0.9</td>\n",
       "      <td>0.019</td>\n",
       "      <td>0.0110</td>\n",
       "      <td>101.0</td>\n",
       "      <td>강원 강릉시 옥천동</td>\n",
       "      <td>37.758266</td>\n",
       "      <td>...</td>\n",
       "      <td>128.8910</td>\n",
       "      <td>1.209623</td>\n",
       "      <td>105.0</td>\n",
       "      <td>강릉</td>\n",
       "      <td>4.5</td>\n",
       "      <td>0.0</td>\n",
       "      <td>0.7</td>\n",
       "      <td>28.0</td>\n",
       "      <td>NaN</td>\n",
       "      <td>강원도 강릉시용강동 63-20강릉자동기상관측소</td>\n",
       "    </tr>\n",
       "    <tr>\n",
       "      <th>2014-01-01 04:00:00</th>\n",
       "      <td>강원 강릉시</td>\n",
       "      <td>632132</td>\n",
       "      <td>옥천동</td>\n",
       "      <td>0.0110</td>\n",
       "      <td>1.0</td>\n",
       "      <td>0.014</td>\n",
       "      <td>0.0170</td>\n",
       "      <td>82.0</td>\n",
       "      <td>강원 강릉시 옥천동</td>\n",
       "      <td>37.758266</td>\n",
       "      <td>...</td>\n",
       "      <td>128.8910</td>\n",
       "      <td>1.209623</td>\n",
       "      <td>105.0</td>\n",
       "      <td>강릉</td>\n",
       "      <td>3.8</td>\n",
       "      <td>0.0</td>\n",
       "      <td>1.0</td>\n",
       "      <td>24.0</td>\n",
       "      <td>NaN</td>\n",
       "      <td>강원도 강릉시용강동 63-20강릉자동기상관측소</td>\n",
       "    </tr>\n",
       "    <tr>\n",
       "      <th>2014-01-01 05:00:00</th>\n",
       "      <td>강원 강릉시</td>\n",
       "      <td>632132</td>\n",
       "      <td>옥천동</td>\n",
       "      <td>0.0170</td>\n",
       "      <td>1.4</td>\n",
       "      <td>0.008</td>\n",
       "      <td>0.0240</td>\n",
       "      <td>69.0</td>\n",
       "      <td>강원 강릉시 옥천동</td>\n",
       "      <td>37.758266</td>\n",
       "      <td>...</td>\n",
       "      <td>128.8910</td>\n",
       "      <td>1.209623</td>\n",
       "      <td>105.0</td>\n",
       "      <td>강릉</td>\n",
       "      <td>2.7</td>\n",
       "      <td>0.0</td>\n",
       "      <td>0.8</td>\n",
       "      <td>25.0</td>\n",
       "      <td>NaN</td>\n",
       "      <td>강원도 강릉시용강동 63-20강릉자동기상관측소</td>\n",
       "    </tr>\n",
       "    <tr>\n",
       "      <th>...</th>\n",
       "      <td>...</td>\n",
       "      <td>...</td>\n",
       "      <td>...</td>\n",
       "      <td>...</td>\n",
       "      <td>...</td>\n",
       "      <td>...</td>\n",
       "      <td>...</td>\n",
       "      <td>...</td>\n",
       "      <td>...</td>\n",
       "      <td>...</td>\n",
       "      <td>...</td>\n",
       "      <td>...</td>\n",
       "      <td>...</td>\n",
       "      <td>...</td>\n",
       "      <td>...</td>\n",
       "      <td>...</td>\n",
       "      <td>...</td>\n",
       "      <td>...</td>\n",
       "      <td>...</td>\n",
       "      <td>...</td>\n",
       "      <td>...</td>\n",
       "    </tr>\n",
       "    <tr>\n",
       "      <th>2020-12-31 20:00:00</th>\n",
       "      <td>인천 옹진군</td>\n",
       "      <td>831494</td>\n",
       "      <td>연평도</td>\n",
       "      <td>0.0023</td>\n",
       "      <td>0.3</td>\n",
       "      <td>0.037</td>\n",
       "      <td>0.0045</td>\n",
       "      <td>19.0</td>\n",
       "      <td>인천 옹진군 연평면 연평리 631</td>\n",
       "      <td>37.666352</td>\n",
       "      <td>...</td>\n",
       "      <td>125.6982</td>\n",
       "      <td>0.902350</td>\n",
       "      <td>501.0</td>\n",
       "      <td>대연평</td>\n",
       "      <td>-5.4</td>\n",
       "      <td>0.0</td>\n",
       "      <td>3.6</td>\n",
       "      <td>69.5</td>\n",
       "      <td>23.1</td>\n",
       "      <td>인천광역시 옹진군연평면 연평리493-12</td>\n",
       "    </tr>\n",
       "    <tr>\n",
       "      <th>2020-12-31 21:00:00</th>\n",
       "      <td>인천 옹진군</td>\n",
       "      <td>831494</td>\n",
       "      <td>연평도</td>\n",
       "      <td>0.0022</td>\n",
       "      <td>0.3</td>\n",
       "      <td>0.036</td>\n",
       "      <td>0.0046</td>\n",
       "      <td>16.0</td>\n",
       "      <td>인천 옹진군 연평면 연평리 631</td>\n",
       "      <td>37.666352</td>\n",
       "      <td>...</td>\n",
       "      <td>125.6982</td>\n",
       "      <td>0.902350</td>\n",
       "      <td>501.0</td>\n",
       "      <td>대연평</td>\n",
       "      <td>-6.0</td>\n",
       "      <td>0.0</td>\n",
       "      <td>2.3</td>\n",
       "      <td>76.2</td>\n",
       "      <td>14.3</td>\n",
       "      <td>인천광역시 옹진군연평면 연평리493-12</td>\n",
       "    </tr>\n",
       "    <tr>\n",
       "      <th>2020-12-31 22:00:00</th>\n",
       "      <td>인천 옹진군</td>\n",
       "      <td>831494</td>\n",
       "      <td>연평도</td>\n",
       "      <td>0.0022</td>\n",
       "      <td>0.3</td>\n",
       "      <td>0.036</td>\n",
       "      <td>0.0045</td>\n",
       "      <td>16.0</td>\n",
       "      <td>인천 옹진군 연평면 연평리 631</td>\n",
       "      <td>37.666352</td>\n",
       "      <td>...</td>\n",
       "      <td>125.6982</td>\n",
       "      <td>0.902350</td>\n",
       "      <td>501.0</td>\n",
       "      <td>대연평</td>\n",
       "      <td>-6.1</td>\n",
       "      <td>0.0</td>\n",
       "      <td>2.3</td>\n",
       "      <td>78.9</td>\n",
       "      <td>24.1</td>\n",
       "      <td>인천광역시 옹진군연평면 연평리493-12</td>\n",
       "    </tr>\n",
       "    <tr>\n",
       "      <th>2020-12-31 23:00:00</th>\n",
       "      <td>인천 옹진군</td>\n",
       "      <td>831494</td>\n",
       "      <td>연평도</td>\n",
       "      <td>0.0023</td>\n",
       "      <td>0.3</td>\n",
       "      <td>0.037</td>\n",
       "      <td>0.0043</td>\n",
       "      <td>20.0</td>\n",
       "      <td>인천 옹진군 연평면 연평리 631</td>\n",
       "      <td>37.666352</td>\n",
       "      <td>...</td>\n",
       "      <td>125.6982</td>\n",
       "      <td>0.902350</td>\n",
       "      <td>501.0</td>\n",
       "      <td>대연평</td>\n",
       "      <td>-6.5</td>\n",
       "      <td>0.0</td>\n",
       "      <td>1.3</td>\n",
       "      <td>78.5</td>\n",
       "      <td>11.2</td>\n",
       "      <td>인천광역시 옹진군연평면 연평리493-12</td>\n",
       "    </tr>\n",
       "    <tr>\n",
       "      <th>2021-01-01 00:00:00</th>\n",
       "      <td>인천 옹진군</td>\n",
       "      <td>831494</td>\n",
       "      <td>연평도</td>\n",
       "      <td>0.0021</td>\n",
       "      <td>0.3</td>\n",
       "      <td>0.036</td>\n",
       "      <td>0.0043</td>\n",
       "      <td>16.0</td>\n",
       "      <td>인천 옹진군 연평면 연평리 631</td>\n",
       "      <td>37.666352</td>\n",
       "      <td>...</td>\n",
       "      <td>125.6982</td>\n",
       "      <td>0.902350</td>\n",
       "      <td>NaN</td>\n",
       "      <td>NaN</td>\n",
       "      <td>-6.5</td>\n",
       "      <td>0.0</td>\n",
       "      <td>1.3</td>\n",
       "      <td>78.5</td>\n",
       "      <td>11.2</td>\n",
       "      <td>NaN</td>\n",
       "    </tr>\n",
       "  </tbody>\n",
       "</table>\n",
       "<p>18081790 rows × 22 columns</p>\n",
       "</div>"
      ],
      "text/plain": [
       "                         지역   측정소코드 측정소명     SO2   CO     O3     NO2   PM10  \\\n",
       "일시                                                                            \n",
       "2014-01-01 01:00:00  강원 강릉시  632132  옥천동  0.0100  0.6  0.022  0.0110  132.0   \n",
       "2014-01-01 02:00:00  강원 강릉시  632132  옥천동  0.0100  0.6  0.021  0.0110  121.0   \n",
       "2014-01-01 03:00:00  강원 강릉시  632132  옥천동  0.0110  0.9  0.019  0.0110  101.0   \n",
       "2014-01-01 04:00:00  강원 강릉시  632132  옥천동  0.0110  1.0  0.014  0.0170   82.0   \n",
       "2014-01-01 05:00:00  강원 강릉시  632132  옥천동  0.0170  1.4  0.008  0.0240   69.0   \n",
       "...                     ...     ...  ...     ...  ...    ...     ...    ...   \n",
       "2020-12-31 20:00:00  인천 옹진군  831494  연평도  0.0023  0.3  0.037  0.0045   19.0   \n",
       "2020-12-31 21:00:00  인천 옹진군  831494  연평도  0.0022  0.3  0.036  0.0046   16.0   \n",
       "2020-12-31 22:00:00  인천 옹진군  831494  연평도  0.0022  0.3  0.036  0.0045   16.0   \n",
       "2020-12-31 23:00:00  인천 옹진군  831494  연평도  0.0023  0.3  0.037  0.0043   20.0   \n",
       "2021-01-01 00:00:00  인천 옹진군  831494  연평도  0.0021  0.3  0.036  0.0043   16.0   \n",
       "\n",
       "                                     주소       위도_x  ...      기상경도        거리  \\\n",
       "일시                                                  ...                       \n",
       "2014-01-01 01:00:00          강원 강릉시 옥천동  37.758266  ...  128.8910  1.209623   \n",
       "2014-01-01 02:00:00          강원 강릉시 옥천동  37.758266  ...  128.8910  1.209623   \n",
       "2014-01-01 03:00:00          강원 강릉시 옥천동  37.758266  ...  128.8910  1.209623   \n",
       "2014-01-01 04:00:00          강원 강릉시 옥천동  37.758266  ...  128.8910  1.209623   \n",
       "2014-01-01 05:00:00          강원 강릉시 옥천동  37.758266  ...  128.8910  1.209623   \n",
       "...                                 ...        ...  ...       ...       ...   \n",
       "2020-12-31 20:00:00  인천 옹진군 연평면 연평리 631  37.666352  ...  125.6982  0.902350   \n",
       "2020-12-31 21:00:00  인천 옹진군 연평면 연평리 631  37.666352  ...  125.6982  0.902350   \n",
       "2020-12-31 22:00:00  인천 옹진군 연평면 연평리 631  37.666352  ...  125.6982  0.902350   \n",
       "2020-12-31 23:00:00  인천 옹진군 연평면 연평리 631  37.666352  ...  125.6982  0.902350   \n",
       "2021-01-01 00:00:00  인천 옹진군 연평면 연평리 631  37.666352  ...  125.6982  0.902350   \n",
       "\n",
       "                        지점  지점명_x  기온(°C) 강수량(mm)  풍속(m/s)  습도(%)  풍향(deg)  \\\n",
       "일시                                                                           \n",
       "2014-01-01 01:00:00  105.0     강릉     6.6     0.0      5.4   30.0      NaN   \n",
       "2014-01-01 02:00:00  105.0     강릉     5.9     0.0      2.8   30.0      NaN   \n",
       "2014-01-01 03:00:00  105.0     강릉     4.5     0.0      0.7   28.0      NaN   \n",
       "2014-01-01 04:00:00  105.0     강릉     3.8     0.0      1.0   24.0      NaN   \n",
       "2014-01-01 05:00:00  105.0     강릉     2.7     0.0      0.8   25.0      NaN   \n",
       "...                    ...    ...     ...     ...      ...    ...      ...   \n",
       "2020-12-31 20:00:00  501.0    대연평    -5.4     0.0      3.6   69.5     23.1   \n",
       "2020-12-31 21:00:00  501.0    대연평    -6.0     0.0      2.3   76.2     14.3   \n",
       "2020-12-31 22:00:00  501.0    대연평    -6.1     0.0      2.3   78.9     24.1   \n",
       "2020-12-31 23:00:00  501.0    대연평    -6.5     0.0      1.3   78.5     11.2   \n",
       "2021-01-01 00:00:00    NaN    NaN    -6.5     0.0      1.3   78.5     11.2   \n",
       "\n",
       "                                            지점주소  \n",
       "일시                                                \n",
       "2014-01-01 01:00:00  강원도 강릉시용강동 63-20강릉자동기상관측소    \n",
       "2014-01-01 02:00:00  강원도 강릉시용강동 63-20강릉자동기상관측소    \n",
       "2014-01-01 03:00:00  강원도 강릉시용강동 63-20강릉자동기상관측소    \n",
       "2014-01-01 04:00:00  강원도 강릉시용강동 63-20강릉자동기상관측소    \n",
       "2014-01-01 05:00:00  강원도 강릉시용강동 63-20강릉자동기상관측소    \n",
       "...                                          ...  \n",
       "2020-12-31 20:00:00     인천광역시 옹진군연평면 연평리493-12    \n",
       "2020-12-31 21:00:00     인천광역시 옹진군연평면 연평리493-12    \n",
       "2020-12-31 22:00:00     인천광역시 옹진군연평면 연평리493-12    \n",
       "2020-12-31 23:00:00     인천광역시 옹진군연평면 연평리493-12    \n",
       "2021-01-01 00:00:00                          NaN  \n",
       "\n",
       "[18081790 rows x 22 columns]"
      ]
     },
     "execution_count": 86,
     "metadata": {},
     "output_type": "execute_result"
    }
   ],
   "source": [
    "train_interpol"
   ]
  },
  {
   "cell_type": "code",
   "execution_count": 87,
   "metadata": {},
   "outputs": [],
   "source": [
    "train_interpol.to_csv('train_interpol.csv', index=True)"
   ]
  },
  {
   "cell_type": "code",
   "execution_count": 80,
   "metadata": {},
   "outputs": [
    {
     "data": {
      "text/plain": [
       "57420"
      ]
     },
     "execution_count": 80,
     "metadata": {},
     "output_type": "execute_result"
    }
   ],
   "source": [
    "len(train_interpol)"
   ]
  },
  {
   "cell_type": "code",
   "execution_count": 83,
   "metadata": {},
   "outputs": [
    {
     "data": {
      "text/plain": [
       "지역             0\n",
       "측정소코드          0\n",
       "측정소명           0\n",
       "SO2            0\n",
       "CO             0\n",
       "O3             0\n",
       "NO2            0\n",
       "PM10           0\n",
       "주소             0\n",
       "위도_x           0\n",
       "경도_x           0\n",
       "기상위도           0\n",
       "기상경도           0\n",
       "거리             0\n",
       "지점            11\n",
       "지점명_x         11\n",
       "기온(°C)         0\n",
       "강수량(mm)        0\n",
       "풍속(m/s)        0\n",
       "습도(%)          0\n",
       "풍향(deg)    57420\n",
       "지점주소          11\n",
       "dtype: int64"
      ]
     },
     "execution_count": 83,
     "metadata": {},
     "output_type": "execute_result"
    }
   ],
   "source": [
    "df_interpol.isnull().sum()"
   ]
  },
  {
   "cell_type": "markdown",
   "metadata": {},
   "source": [
    "# Delete observatories with only null"
   ]
  },
  {
   "cell_type": "code",
   "execution_count": 1,
   "metadata": {},
   "outputs": [],
   "source": [
    "import pandas as pd\n",
    "import numpy as np\n",
    "import matplotlib.pyplot as plt\n",
    "plt.rc('font', family='NanumBarunGothic') \n",
    "\n",
    "import seaborn as sns\n",
    "# import missingno as mno"
   ]
  },
  {
   "cell_type": "code",
   "execution_count": 60,
   "metadata": {},
   "outputs": [
    {
     "data": {
      "text/html": [
       "<div>\n",
       "<style scoped>\n",
       "    .dataframe tbody tr th:only-of-type {\n",
       "        vertical-align: middle;\n",
       "    }\n",
       "\n",
       "    .dataframe tbody tr th {\n",
       "        vertical-align: top;\n",
       "    }\n",
       "\n",
       "    .dataframe thead th {\n",
       "        text-align: right;\n",
       "    }\n",
       "</style>\n",
       "<table border=\"1\" class=\"dataframe\">\n",
       "  <thead>\n",
       "    <tr style=\"text-align: right;\">\n",
       "      <th></th>\n",
       "      <th>지역</th>\n",
       "      <th>측정소코드</th>\n",
       "      <th>측정소명</th>\n",
       "      <th>SO2</th>\n",
       "      <th>CO</th>\n",
       "      <th>O3</th>\n",
       "      <th>NO2</th>\n",
       "      <th>PM10</th>\n",
       "      <th>주소</th>\n",
       "      <th>위도_x</th>\n",
       "      <th>...</th>\n",
       "      <th>거리</th>\n",
       "      <th>일시</th>\n",
       "      <th>지점</th>\n",
       "      <th>지점명_x</th>\n",
       "      <th>기온(°C)</th>\n",
       "      <th>강수량(mm)</th>\n",
       "      <th>풍속(m/s)</th>\n",
       "      <th>습도(%)</th>\n",
       "      <th>풍향(deg)</th>\n",
       "      <th>지점주소</th>\n",
       "    </tr>\n",
       "  </thead>\n",
       "  <tbody>\n",
       "    <tr>\n",
       "      <th>0</th>\n",
       "      <td>강원 강릉시</td>\n",
       "      <td>632132</td>\n",
       "      <td>옥천동</td>\n",
       "      <td>0.010</td>\n",
       "      <td>0.6</td>\n",
       "      <td>0.022</td>\n",
       "      <td>0.011</td>\n",
       "      <td>132.0</td>\n",
       "      <td>강원 강릉시 옥천동</td>\n",
       "      <td>37.758266</td>\n",
       "      <td>...</td>\n",
       "      <td>1.209623</td>\n",
       "      <td>2014-01-01 01:00:00</td>\n",
       "      <td>105.0</td>\n",
       "      <td>강릉</td>\n",
       "      <td>6.6</td>\n",
       "      <td>NaN</td>\n",
       "      <td>5.4</td>\n",
       "      <td>30.0</td>\n",
       "      <td>NaN</td>\n",
       "      <td>강원도 강릉시용강동 63-20강릉자동기상관측소</td>\n",
       "    </tr>\n",
       "    <tr>\n",
       "      <th>1</th>\n",
       "      <td>강원 강릉시</td>\n",
       "      <td>632132</td>\n",
       "      <td>옥천동</td>\n",
       "      <td>0.010</td>\n",
       "      <td>0.6</td>\n",
       "      <td>0.021</td>\n",
       "      <td>0.011</td>\n",
       "      <td>121.0</td>\n",
       "      <td>강원 강릉시 옥천동</td>\n",
       "      <td>37.758266</td>\n",
       "      <td>...</td>\n",
       "      <td>1.209623</td>\n",
       "      <td>2014-01-01 02:00:00</td>\n",
       "      <td>105.0</td>\n",
       "      <td>강릉</td>\n",
       "      <td>5.9</td>\n",
       "      <td>NaN</td>\n",
       "      <td>2.8</td>\n",
       "      <td>30.0</td>\n",
       "      <td>NaN</td>\n",
       "      <td>강원도 강릉시용강동 63-20강릉자동기상관측소</td>\n",
       "    </tr>\n",
       "    <tr>\n",
       "      <th>2</th>\n",
       "      <td>강원 강릉시</td>\n",
       "      <td>632132</td>\n",
       "      <td>옥천동</td>\n",
       "      <td>0.011</td>\n",
       "      <td>0.9</td>\n",
       "      <td>0.019</td>\n",
       "      <td>0.011</td>\n",
       "      <td>101.0</td>\n",
       "      <td>강원 강릉시 옥천동</td>\n",
       "      <td>37.758266</td>\n",
       "      <td>...</td>\n",
       "      <td>1.209623</td>\n",
       "      <td>2014-01-01 03:00:00</td>\n",
       "      <td>105.0</td>\n",
       "      <td>강릉</td>\n",
       "      <td>4.5</td>\n",
       "      <td>NaN</td>\n",
       "      <td>0.7</td>\n",
       "      <td>28.0</td>\n",
       "      <td>NaN</td>\n",
       "      <td>강원도 강릉시용강동 63-20강릉자동기상관측소</td>\n",
       "    </tr>\n",
       "    <tr>\n",
       "      <th>3</th>\n",
       "      <td>강원 강릉시</td>\n",
       "      <td>632132</td>\n",
       "      <td>옥천동</td>\n",
       "      <td>0.011</td>\n",
       "      <td>1.0</td>\n",
       "      <td>0.014</td>\n",
       "      <td>0.017</td>\n",
       "      <td>82.0</td>\n",
       "      <td>강원 강릉시 옥천동</td>\n",
       "      <td>37.758266</td>\n",
       "      <td>...</td>\n",
       "      <td>1.209623</td>\n",
       "      <td>2014-01-01 04:00:00</td>\n",
       "      <td>105.0</td>\n",
       "      <td>강릉</td>\n",
       "      <td>3.8</td>\n",
       "      <td>NaN</td>\n",
       "      <td>1.0</td>\n",
       "      <td>24.0</td>\n",
       "      <td>NaN</td>\n",
       "      <td>강원도 강릉시용강동 63-20강릉자동기상관측소</td>\n",
       "    </tr>\n",
       "    <tr>\n",
       "      <th>4</th>\n",
       "      <td>강원 강릉시</td>\n",
       "      <td>632132</td>\n",
       "      <td>옥천동</td>\n",
       "      <td>0.017</td>\n",
       "      <td>1.4</td>\n",
       "      <td>0.008</td>\n",
       "      <td>0.024</td>\n",
       "      <td>69.0</td>\n",
       "      <td>강원 강릉시 옥천동</td>\n",
       "      <td>37.758266</td>\n",
       "      <td>...</td>\n",
       "      <td>1.209623</td>\n",
       "      <td>2014-01-01 05:00:00</td>\n",
       "      <td>105.0</td>\n",
       "      <td>강릉</td>\n",
       "      <td>2.7</td>\n",
       "      <td>NaN</td>\n",
       "      <td>0.8</td>\n",
       "      <td>25.0</td>\n",
       "      <td>NaN</td>\n",
       "      <td>강원도 강릉시용강동 63-20강릉자동기상관측소</td>\n",
       "    </tr>\n",
       "    <tr>\n",
       "      <th>...</th>\n",
       "      <td>...</td>\n",
       "      <td>...</td>\n",
       "      <td>...</td>\n",
       "      <td>...</td>\n",
       "      <td>...</td>\n",
       "      <td>...</td>\n",
       "      <td>...</td>\n",
       "      <td>...</td>\n",
       "      <td>...</td>\n",
       "      <td>...</td>\n",
       "      <td>...</td>\n",
       "      <td>...</td>\n",
       "      <td>...</td>\n",
       "      <td>...</td>\n",
       "      <td>...</td>\n",
       "      <td>...</td>\n",
       "      <td>...</td>\n",
       "      <td>...</td>\n",
       "      <td>...</td>\n",
       "      <td>...</td>\n",
       "      <td>...</td>\n",
       "    </tr>\n",
       "    <tr>\n",
       "      <th>57415</th>\n",
       "      <td>강원 강릉시</td>\n",
       "      <td>632132</td>\n",
       "      <td>옥천동</td>\n",
       "      <td>0.003</td>\n",
       "      <td>0.3</td>\n",
       "      <td>0.029</td>\n",
       "      <td>0.014</td>\n",
       "      <td>24.0</td>\n",
       "      <td>강원 강릉시 경강로 2179(옥천동 327-2)</td>\n",
       "      <td>37.760031</td>\n",
       "      <td>...</td>\n",
       "      <td>1.417000</td>\n",
       "      <td>2020-12-31 20:00:00</td>\n",
       "      <td>105.0</td>\n",
       "      <td>강릉</td>\n",
       "      <td>-4.3</td>\n",
       "      <td>NaN</td>\n",
       "      <td>6.4</td>\n",
       "      <td>41.0</td>\n",
       "      <td>NaN</td>\n",
       "      <td>강원도 강릉시용강동 63-20강릉자동기상관측소</td>\n",
       "    </tr>\n",
       "    <tr>\n",
       "      <th>57416</th>\n",
       "      <td>강원 강릉시</td>\n",
       "      <td>632132</td>\n",
       "      <td>옥천동</td>\n",
       "      <td>0.003</td>\n",
       "      <td>0.3</td>\n",
       "      <td>0.028</td>\n",
       "      <td>0.014</td>\n",
       "      <td>21.0</td>\n",
       "      <td>강원 강릉시 경강로 2179(옥천동 327-2)</td>\n",
       "      <td>37.760031</td>\n",
       "      <td>...</td>\n",
       "      <td>1.417000</td>\n",
       "      <td>2020-12-31 21:00:00</td>\n",
       "      <td>105.0</td>\n",
       "      <td>강릉</td>\n",
       "      <td>-4.8</td>\n",
       "      <td>NaN</td>\n",
       "      <td>5.0</td>\n",
       "      <td>43.0</td>\n",
       "      <td>NaN</td>\n",
       "      <td>강원도 강릉시용강동 63-20강릉자동기상관측소</td>\n",
       "    </tr>\n",
       "    <tr>\n",
       "      <th>57417</th>\n",
       "      <td>강원 강릉시</td>\n",
       "      <td>632132</td>\n",
       "      <td>옥천동</td>\n",
       "      <td>0.003</td>\n",
       "      <td>0.3</td>\n",
       "      <td>0.028</td>\n",
       "      <td>0.014</td>\n",
       "      <td>32.0</td>\n",
       "      <td>강원 강릉시 경강로 2179(옥천동 327-2)</td>\n",
       "      <td>37.760031</td>\n",
       "      <td>...</td>\n",
       "      <td>1.417000</td>\n",
       "      <td>2020-12-31 22:00:00</td>\n",
       "      <td>105.0</td>\n",
       "      <td>강릉</td>\n",
       "      <td>-4.9</td>\n",
       "      <td>NaN</td>\n",
       "      <td>5.3</td>\n",
       "      <td>42.0</td>\n",
       "      <td>NaN</td>\n",
       "      <td>강원도 강릉시용강동 63-20강릉자동기상관측소</td>\n",
       "    </tr>\n",
       "    <tr>\n",
       "      <th>57418</th>\n",
       "      <td>강원 강릉시</td>\n",
       "      <td>632132</td>\n",
       "      <td>옥천동</td>\n",
       "      <td>0.003</td>\n",
       "      <td>0.3</td>\n",
       "      <td>0.030</td>\n",
       "      <td>0.012</td>\n",
       "      <td>22.0</td>\n",
       "      <td>강원 강릉시 경강로 2179(옥천동 327-2)</td>\n",
       "      <td>37.760031</td>\n",
       "      <td>...</td>\n",
       "      <td>1.417000</td>\n",
       "      <td>2020-12-31 23:00:00</td>\n",
       "      <td>105.0</td>\n",
       "      <td>강릉</td>\n",
       "      <td>-5.0</td>\n",
       "      <td>NaN</td>\n",
       "      <td>5.0</td>\n",
       "      <td>39.0</td>\n",
       "      <td>NaN</td>\n",
       "      <td>강원도 강릉시용강동 63-20강릉자동기상관측소</td>\n",
       "    </tr>\n",
       "    <tr>\n",
       "      <th>57419</th>\n",
       "      <td>강원 강릉시</td>\n",
       "      <td>632132</td>\n",
       "      <td>옥천동</td>\n",
       "      <td>0.003</td>\n",
       "      <td>0.3</td>\n",
       "      <td>0.032</td>\n",
       "      <td>0.011</td>\n",
       "      <td>29.0</td>\n",
       "      <td>강원 강릉시 경강로 2179(옥천동 327-2)</td>\n",
       "      <td>37.760031</td>\n",
       "      <td>...</td>\n",
       "      <td>1.417000</td>\n",
       "      <td>2021-01-01 00:00:00</td>\n",
       "      <td>NaN</td>\n",
       "      <td>NaN</td>\n",
       "      <td>NaN</td>\n",
       "      <td>NaN</td>\n",
       "      <td>NaN</td>\n",
       "      <td>NaN</td>\n",
       "      <td>NaN</td>\n",
       "      <td>NaN</td>\n",
       "    </tr>\n",
       "  </tbody>\n",
       "</table>\n",
       "<p>57420 rows × 23 columns</p>\n",
       "</div>"
      ],
      "text/plain": [
       "           지역   측정소코드 측정소명    SO2   CO     O3    NO2   PM10  \\\n",
       "0      강원 강릉시  632132  옥천동  0.010  0.6  0.022  0.011  132.0   \n",
       "1      강원 강릉시  632132  옥천동  0.010  0.6  0.021  0.011  121.0   \n",
       "2      강원 강릉시  632132  옥천동  0.011  0.9  0.019  0.011  101.0   \n",
       "3      강원 강릉시  632132  옥천동  0.011  1.0  0.014  0.017   82.0   \n",
       "4      강원 강릉시  632132  옥천동  0.017  1.4  0.008  0.024   69.0   \n",
       "...       ...     ...  ...    ...  ...    ...    ...    ...   \n",
       "57415  강원 강릉시  632132  옥천동  0.003  0.3  0.029  0.014   24.0   \n",
       "57416  강원 강릉시  632132  옥천동  0.003  0.3  0.028  0.014   21.0   \n",
       "57417  강원 강릉시  632132  옥천동  0.003  0.3  0.028  0.014   32.0   \n",
       "57418  강원 강릉시  632132  옥천동  0.003  0.3  0.030  0.012   22.0   \n",
       "57419  강원 강릉시  632132  옥천동  0.003  0.3  0.032  0.011   29.0   \n",
       "\n",
       "                               주소       위도_x  ...        거리  \\\n",
       "0                      강원 강릉시 옥천동  37.758266  ...  1.209623   \n",
       "1                      강원 강릉시 옥천동  37.758266  ...  1.209623   \n",
       "2                      강원 강릉시 옥천동  37.758266  ...  1.209623   \n",
       "3                      강원 강릉시 옥천동  37.758266  ...  1.209623   \n",
       "4                      강원 강릉시 옥천동  37.758266  ...  1.209623   \n",
       "...                           ...        ...  ...       ...   \n",
       "57415  강원 강릉시 경강로 2179(옥천동 327-2)  37.760031  ...  1.417000   \n",
       "57416  강원 강릉시 경강로 2179(옥천동 327-2)  37.760031  ...  1.417000   \n",
       "57417  강원 강릉시 경강로 2179(옥천동 327-2)  37.760031  ...  1.417000   \n",
       "57418  강원 강릉시 경강로 2179(옥천동 327-2)  37.760031  ...  1.417000   \n",
       "57419  강원 강릉시 경강로 2179(옥천동 327-2)  37.760031  ...  1.417000   \n",
       "\n",
       "                       일시     지점  지점명_x 기온(°C)  강수량(mm) 풍속(m/s)  습도(%)  \\\n",
       "0     2014-01-01 01:00:00  105.0     강릉    6.6      NaN     5.4   30.0   \n",
       "1     2014-01-01 02:00:00  105.0     강릉    5.9      NaN     2.8   30.0   \n",
       "2     2014-01-01 03:00:00  105.0     강릉    4.5      NaN     0.7   28.0   \n",
       "3     2014-01-01 04:00:00  105.0     강릉    3.8      NaN     1.0   24.0   \n",
       "4     2014-01-01 05:00:00  105.0     강릉    2.7      NaN     0.8   25.0   \n",
       "...                   ...    ...    ...    ...      ...     ...    ...   \n",
       "57415 2020-12-31 20:00:00  105.0     강릉   -4.3      NaN     6.4   41.0   \n",
       "57416 2020-12-31 21:00:00  105.0     강릉   -4.8      NaN     5.0   43.0   \n",
       "57417 2020-12-31 22:00:00  105.0     강릉   -4.9      NaN     5.3   42.0   \n",
       "57418 2020-12-31 23:00:00  105.0     강릉   -5.0      NaN     5.0   39.0   \n",
       "57419 2021-01-01 00:00:00    NaN    NaN    NaN      NaN     NaN    NaN   \n",
       "\n",
       "       풍향(deg)                         지점주소  \n",
       "0          NaN  강원도 강릉시용강동 63-20강릉자동기상관측소    \n",
       "1          NaN  강원도 강릉시용강동 63-20강릉자동기상관측소    \n",
       "2          NaN  강원도 강릉시용강동 63-20강릉자동기상관측소    \n",
       "3          NaN  강원도 강릉시용강동 63-20강릉자동기상관측소    \n",
       "4          NaN  강원도 강릉시용강동 63-20강릉자동기상관측소    \n",
       "...        ...                          ...  \n",
       "57415      NaN  강원도 강릉시용강동 63-20강릉자동기상관측소    \n",
       "57416      NaN  강원도 강릉시용강동 63-20강릉자동기상관측소    \n",
       "57417      NaN  강원도 강릉시용강동 63-20강릉자동기상관측소    \n",
       "57418      NaN  강원도 강릉시용강동 63-20강릉자동기상관측소    \n",
       "57419      NaN                          NaN  \n",
       "\n",
       "[57420 rows x 23 columns]"
      ]
     },
     "execution_count": 60,
     "metadata": {},
     "output_type": "execute_result"
    }
   ],
   "source": [
    "train_inter = pd.read_csv('train_inter')"
   ]
  },
  {
   "cell_type": "code",
   "execution_count": null,
   "metadata": {},
   "outputs": [],
   "source": [
    "for point in train_point:\n",
    "    globals()['train_{}'.format(point)] = train[train.측정소코드==point].reset_index(drop=True)\n",
    "    globals()['train_{}'.format(point)] = pd.to_datetime(globals()['train_{}'.format(point)]['일시'], format='%Y-%m-%d %H:%M')\n",
    "    globals()['train_{}'.format(point)] = globals()['train_{}'.format(point)].sort_values(by = ['일시'], ascending=True)\n",
    "    globals()['train_{}'.format(point)] = globals()['train_{}'.format(point)].reset_index(drop=True)\n",
    "    \n",
    "    globals()['train_{}'.format(point)]"
   ]
  },
  {
   "cell_type": "code",
   "execution_count": null,
   "metadata": {},
   "outputs": [],
   "source": [
    "df['rownum'] = np.arange(df.shape[0])\n",
    "df_nona = df.dropna(subset = ['value'])\n",
    "f = interp1d(df_nona['rownum'], df_nona['value'])\n",
    "df['linear_fill'] = f(df['rownum'])\n",
    "error = np.round(mean_squared_error(df_orig['value'], df['linear_fill']), 2)\n",
    "df['linear_fill'].plot(title=\"Linear Fill (MSE: \" + str(error) +\")\", ax=axes[3], label='Cubic Fill', color='brown', style=\".-\")"
   ]
  },
  {
   "cell_type": "code",
   "execution_count": 26,
   "metadata": {},
   "outputs": [],
   "source": [
    "# plt.figure(figsize = (13,6))\n",
    "# plt.plot(train['일시'],train['풍향(deg)'])"
   ]
  },
  {
   "cell_type": "code",
   "execution_count": 28,
   "metadata": {},
   "outputs": [
    {
     "data": {
      "text/plain": [
       "일시\n",
       "2014-01-01 01:00   NaN\n",
       "2014-01-01 02:00   NaN\n",
       "2014-01-01 03:00   NaN\n",
       "2014-01-01 04:00   NaN\n",
       "2014-01-01 05:00   NaN\n",
       "                    ..\n",
       "2020-12-31 20:00   NaN\n",
       "2020-12-31 21:00   NaN\n",
       "2020-12-31 22:00   NaN\n",
       "2020-12-31 23:00   NaN\n",
       "2021-01-01 00:00   NaN\n",
       "Name: 풍향(deg), Length: 18081790, dtype: float64"
      ]
     },
     "execution_count": 28,
     "metadata": {},
     "output_type": "execute_result"
    }
   ],
   "source": [
    "ts=pd.Series(train['풍향(deg)'],index=train['일시'])\n",
    "ts\n",
    "# ts.interpolate()"
   ]
  },
  {
   "cell_type": "code",
   "execution_count": 37,
   "metadata": {},
   "outputs": [
    {
     "data": {
      "text/plain": [
       "5753077"
      ]
     },
     "execution_count": 37,
     "metadata": {},
     "output_type": "execute_result"
    }
   ],
   "source": [
    "train['풍향(deg)'].isnull().sum()"
   ]
  },
  {
   "cell_type": "code",
   "execution_count": 31,
   "metadata": {},
   "outputs": [
    {
     "data": {
      "text/plain": [
       "18081790"
      ]
     },
     "execution_count": 31,
     "metadata": {},
     "output_type": "execute_result"
    }
   ],
   "source": [
    "len(train['풍향(deg)'])"
   ]
  },
  {
   "cell_type": "code",
   "execution_count": 30,
   "metadata": {},
   "outputs": [
    {
     "data": {
      "text/plain": [
       "18081790"
      ]
     },
     "execution_count": 30,
     "metadata": {},
     "output_type": "execute_result"
    }
   ],
   "source": [
    "len(ts)"
   ]
  },
  {
   "cell_type": "code",
   "execution_count": 36,
   "metadata": {},
   "outputs": [
    {
     "data": {
      "text/plain": [
       "18081790"
      ]
     },
     "execution_count": 36,
     "metadata": {},
     "output_type": "execute_result"
    }
   ],
   "source": [
    "ts.isnull().sum()"
   ]
  },
  {
   "cell_type": "code",
   "execution_count": 33,
   "metadata": {},
   "outputs": [
    {
     "data": {
      "text/plain": [
       "일시\n",
       "2014-01-01 01:00   NaN\n",
       "2014-01-01 02:00   NaN\n",
       "2014-01-01 03:00   NaN\n",
       "2014-01-01 04:00   NaN\n",
       "2014-01-01 05:00   NaN\n",
       "                    ..\n",
       "2020-12-31 20:00   NaN\n",
       "2020-12-31 21:00   NaN\n",
       "2020-12-31 22:00   NaN\n",
       "2020-12-31 23:00   NaN\n",
       "2021-01-01 00:00   NaN\n",
       "Name: 풍향(deg), Length: 18081790, dtype: float64"
      ]
     },
     "execution_count": 33,
     "metadata": {},
     "output_type": "execute_result"
    }
   ],
   "source": [
    "ts.interpolate(method = \"time\")"
   ]
  }
 ],
 "metadata": {
  "colab": {
   "name": "5) Data Preprocessing.ipynb",
   "provenance": []
  },
  "kernelspec": {
   "display_name": "PyTorch 1.14 (NGC 22.12/Python 3.8) on Backend.AI",
   "language": "python",
   "name": "python3"
  },
  "language_info": {
   "codemirror_mode": {
    "name": "ipython",
    "version": 3
   },
   "file_extension": ".py",
   "mimetype": "text/x-python",
   "name": "python",
   "nbconvert_exporter": "python",
   "pygments_lexer": "ipython3",
   "version": "3.8.10"
  }
 },
 "nbformat": 4,
 "nbformat_minor": 4
}
